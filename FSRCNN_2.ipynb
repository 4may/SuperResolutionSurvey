{
  "nbformat": 4,
  "nbformat_minor": 0,
  "metadata": {
    "colab": {
      "name": "FSRCNN_2.ipynb",
      "provenance": [],
      "collapsed_sections": [],
      "authorship_tag": "ABX9TyMHlOQVQ8vDKizbM5aigMAC",
      "include_colab_link": true
    },
    "kernelspec": {
      "name": "python3",
      "display_name": "Python 3"
    }
  },
  "cells": [
    {
      "cell_type": "markdown",
      "metadata": {
        "id": "view-in-github",
        "colab_type": "text"
      },
      "source": [
        "<a href=\"https://colab.research.google.com/github/4may/SuperResolutionSurvey/blob/master/FSRCNN_2.ipynb\" target=\"_parent\"><img src=\"https://colab.research.google.com/assets/colab-badge.svg\" alt=\"Open In Colab\"/></a>"
      ]
    },
    {
      "cell_type": "markdown",
      "metadata": {
        "id": "Tlgrl_4ZR2ku",
        "colab_type": "text"
      },
      "source": [
        "# Fast Super-Resolution Convolutional Network(FSRCNN)\n",
        "\n",
        "[OSSのソース](https://github.com/GeorgeSeif/FSRCNN-Keras)を参考に実装してみる。\n",
        "\n",
        "* data\n",
        "  * trainingデータとして、291種類の画像データを使用している。\n",
        "    * 明確なデータが確認できなかったが、おそらく91(.bmp)+200(.jpg)で構成されている\n",
        "    * matlabのプログラムでデータを加工しているのだが、拡張子が.bmpと.jpgの二つある\n",
        "      * [91](https://www.kaggle.com/ll01dm/t91-image-dataset):.bmpファイル。\n",
        "      * [200](https://www2.eecs.berkeley.edu/Research/Projects/CS/vision/bsds/BSDS300/html/dataset/images.html):.jpgファイル。確度そこそこ。train/testで分かれていて、それぞれ200と100枚。\n",
        "  * testデータとして、5種類の画像データを使用している。\n",
        "    * こちらは、明確にSet5との記載あり。\n",
        "* アーキテクチャ\n",
        "  * コスパの良いFSRCNN(56, 16, 4)が採用されている。"
      ]
    },
    {
      "cell_type": "markdown",
      "metadata": {
        "id": "yZrD0UtgU1Z1",
        "colab_type": "text"
      },
      "source": [
        "## Data Augmentation\n",
        "\n",
        "[matlabのソース](https://github.com/GeorgeSeif/FSRCNN-Keras/blob/master/data/aug_train.m)を参考に、291種類の画像データに対してdata augmentationを行う。"
      ]
    },
    {
      "cell_type": "code",
      "metadata": {
        "id": "j5iMdHZXUxM1",
        "colab_type": "code",
        "outputId": "38ba5017-8f1f-4868-80cc-3490f54573f1",
        "colab": {
          "base_uri": "https://localhost:8080/",
          "height": 1000
        }
      },
      "source": [
        "!unzip \"291.zip\""
      ],
      "execution_count": 3,
      "outputs": [
        {
          "output_type": "stream",
          "text": [
            "Archive:  291.zip\n",
            "   creating: 291/\n",
            "  inflating: 291/157036.jpg          \n",
            "  inflating: __MACOSX/291/._157036.jpg  \n",
            "  inflating: 291/187029.jpg          \n",
            "  inflating: __MACOSX/291/._187029.jpg  \n",
            "  inflating: 291/71046.jpg           \n",
            "  inflating: __MACOSX/291/._71046.jpg  \n",
            "  inflating: 291/299091.jpg          \n",
            "  inflating: __MACOSX/291/._299091.jpg  \n",
            "  inflating: 291/tt26.bmp            \n",
            "  inflating: __MACOSX/291/._tt26.bmp  \n",
            "  inflating: 291/242078.jpg          \n",
            "  inflating: __MACOSX/291/._242078.jpg  \n",
            "  inflating: 291/t53.bmp             \n",
            "  inflating: __MACOSX/291/._t53.bmp  \n",
            "  inflating: 291/t47.bmp             \n",
            "  inflating: __MACOSX/291/._t47.bmp  \n",
            "  inflating: 291/232038.jpg          \n",
            "  inflating: __MACOSX/291/._232038.jpg  \n",
            "  inflating: 291/173036.jpg          \n",
            "  inflating: __MACOSX/291/._173036.jpg  \n",
            "  inflating: 291/198054.jpg          \n",
            "  inflating: __MACOSX/291/._198054.jpg  \n",
            "  inflating: 291/t46.bmp             \n",
            "  inflating: __MACOSX/291/._t46.bmp  \n",
            "  inflating: 291/388016.jpg          \n",
            "  inflating: __MACOSX/291/._388016.jpg  \n",
            "  inflating: 291/t52.bmp             \n",
            "  inflating: __MACOSX/291/._t52.bmp  \n",
            "  inflating: 291/292066.jpg          \n",
            "  inflating: __MACOSX/291/._292066.jpg  \n",
            "  inflating: 291/tt27.bmp            \n",
            "  inflating: __MACOSX/291/._tt27.bmp  \n",
            "  inflating: 291/189011.jpg          \n",
            "  inflating: __MACOSX/291/._189011.jpg  \n",
            "  inflating: 291/59078.jpg           \n",
            "  inflating: __MACOSX/291/._59078.jpg  \n",
            "  inflating: 291/108041.jpg          \n",
            "  inflating: __MACOSX/291/._108041.jpg  \n",
            "  inflating: 291/66075.jpg           \n",
            "  inflating: __MACOSX/291/._66075.jpg  \n",
            "  inflating: 291/20008.jpg           \n",
            "  inflating: __MACOSX/291/._20008.jpg  \n",
            "  inflating: 291/370036.jpg          \n",
            "  inflating: __MACOSX/291/._370036.jpg  \n",
            "  inflating: 291/tt19.bmp            \n",
            "  inflating: __MACOSX/291/._tt19.bmp  \n",
            "  inflating: 291/tt25.bmp            \n",
            "  inflating: __MACOSX/291/._tt25.bmp  \n",
            "  inflating: 291/t44.bmp             \n",
            "  inflating: __MACOSX/291/._t44.bmp  \n",
            "  inflating: 291/t50.bmp             \n",
            "  inflating: __MACOSX/291/._t50.bmp  \n",
            "  inflating: 291/41025.jpg           \n",
            "  inflating: __MACOSX/291/._41025.jpg  \n",
            "  inflating: 291/207056.jpg          \n",
            "  inflating: __MACOSX/291/._207056.jpg  \n",
            "  inflating: 291/314016.jpg          \n",
            "  inflating: __MACOSX/291/._314016.jpg  \n",
            "  inflating: 291/t51.bmp             \n",
            "  inflating: __MACOSX/291/._t51.bmp  \n",
            "  inflating: 291/t45.bmp             \n",
            "  inflating: __MACOSX/291/._t45.bmp  \n",
            "  inflating: 291/188091.jpg          \n",
            "  inflating: __MACOSX/291/._188091.jpg  \n",
            "  inflating: 291/tt24.bmp            \n",
            "  inflating: __MACOSX/291/._tt24.bmp  \n",
            "  inflating: 291/56028.jpg           \n",
            "  inflating: __MACOSX/291/._56028.jpg  \n",
            "  inflating: 291/tt18.bmp            \n",
            "  inflating: __MACOSX/291/._tt18.bmp  \n",
            "  inflating: 291/134008.jpg          \n",
            "  inflating: __MACOSX/291/._134008.jpg  \n",
            "  inflating: 291/153093.jpg          \n",
            "  inflating: __MACOSX/291/._153093.jpg  \n",
            "  inflating: 291/54005.jpg           \n",
            "  inflating: __MACOSX/291/._54005.jpg  \n",
            "  inflating: 291/65019.jpg           \n",
            "  inflating: __MACOSX/291/._65019.jpg  \n",
            "  inflating: 291/176039.jpg          \n",
            "  inflating: __MACOSX/291/._176039.jpg  \n",
            "  inflating: 291/187003.jpg          \n",
            "  inflating: __MACOSX/291/._187003.jpg  \n",
            "  inflating: 291/61086.jpg           \n",
            "  inflating: __MACOSX/291/._61086.jpg  \n",
            "  inflating: 291/147021.jpg          \n",
            "  inflating: __MACOSX/291/._147021.jpg  \n",
            "  inflating: 291/353013.jpg          \n",
            "  inflating: __MACOSX/291/._353013.jpg  \n",
            "  inflating: 291/317080.jpg          \n",
            "  inflating: __MACOSX/291/._317080.jpg  \n",
            "  inflating: 291/tt20.bmp            \n",
            "  inflating: __MACOSX/291/._tt20.bmp  \n",
            "  inflating: 291/t55.bmp             \n",
            "  inflating: __MACOSX/291/._t55.bmp  \n",
            "  inflating: 291/28096.jpg           \n",
            "  inflating: __MACOSX/291/._28096.jpg  \n",
            "  inflating: 291/35010.jpg           \n",
            "  inflating: __MACOSX/291/._35010.jpg  \n",
            "  inflating: 291/151087.jpg          \n",
            "  inflating: __MACOSX/291/._151087.jpg  \n",
            "  inflating: 291/t54.bmp             \n",
            "  inflating: __MACOSX/291/._t54.bmp  \n",
            "  inflating: 291/t40.bmp             \n",
            "  inflating: __MACOSX/291/._t40.bmp  \n",
            "  inflating: 291/tt21.bmp            \n",
            "  inflating: __MACOSX/291/._tt21.bmp  \n",
            "  inflating: 291/254033.jpg          \n",
            "  inflating: __MACOSX/291/._254033.jpg  \n",
            "  inflating: 291/189003.jpg          \n",
            "  inflating: __MACOSX/291/._189003.jpg  \n",
            "  inflating: 291/144067.jpg          \n",
            "  inflating: __MACOSX/291/._144067.jpg  \n",
            "  inflating: 291/33066.jpg           \n",
            "  inflating: __MACOSX/291/._33066.jpg  \n",
            "  inflating: 291/tt23.bmp            \n",
            "  inflating: __MACOSX/291/._tt23.bmp  \n",
            "  inflating: 291/t56.bmp             \n",
            "  inflating: __MACOSX/291/._t56.bmp  \n",
            "  inflating: 291/t42.bmp             \n",
            "  inflating: __MACOSX/291/._t42.bmp  \n",
            "  inflating: 291/tt8.bmp             \n",
            "  inflating: __MACOSX/291/._tt8.bmp  \n",
            "  inflating: 291/tt9.bmp             \n",
            "  inflating: __MACOSX/291/._tt9.bmp  \n",
            "  inflating: 291/138032.jpg          \n",
            "  inflating: __MACOSX/291/._138032.jpg  \n",
            "  inflating: 291/t43.bmp             \n",
            "  inflating: __MACOSX/291/._t43.bmp  \n",
            "  inflating: 291/t57.bmp             \n",
            "  inflating: __MACOSX/291/._t57.bmp  \n",
            "  inflating: 291/tt22.bmp            \n",
            "  inflating: __MACOSX/291/._tt22.bmp  \n",
            "  inflating: 291/15088.jpg           \n",
            "  inflating: __MACOSX/291/._15088.jpg  \n",
            "  inflating: 291/249061.jpg          \n",
            "  inflating: __MACOSX/291/._249061.jpg  \n",
            "  inflating: 291/68077.jpg           \n",
            "  inflating: __MACOSX/291/._68077.jpg  \n",
            "  inflating: 291/368078.jpg          \n",
            "  inflating: __MACOSX/291/._368078.jpg  \n",
            "  inflating: 291/187039.jpg          \n",
            "  inflating: __MACOSX/291/._187039.jpg  \n",
            "  inflating: 291/87065.jpg           \n",
            "  inflating: __MACOSX/291/._87065.jpg  \n",
            "  inflating: 291/216066.jpg          \n",
            "  inflating: __MACOSX/291/._216066.jpg  \n",
            "  inflating: 291/43083.jpg           \n",
            "  inflating: __MACOSX/291/._43083.jpg  \n",
            "  inflating: 291/372047.jpg          \n",
            "  inflating: __MACOSX/291/._372047.jpg  \n",
            "  inflating: 291/227046.jpg          \n",
            "  inflating: __MACOSX/291/._227046.jpg  \n",
            "  inflating: 291/15004.jpg           \n",
            "  inflating: __MACOSX/291/._15004.jpg  \n",
            "  inflating: 291/236017.jpg          \n",
            "  inflating: __MACOSX/291/._236017.jpg  \n",
            "  inflating: 291/310007.jpg          \n",
            "  inflating: __MACOSX/291/._310007.jpg  \n",
            "  inflating: 291/t18.bmp             \n",
            "  inflating: __MACOSX/291/._t18.bmp  \n",
            "  inflating: 291/t30.bmp             \n",
            "  inflating: __MACOSX/291/._t30.bmp  \n",
            "  inflating: 291/t24.bmp             \n",
            "  inflating: __MACOSX/291/._t24.bmp  \n",
            "  inflating: 291/198023.jpg          \n",
            "  inflating: __MACOSX/291/._198023.jpg  \n",
            "  inflating: 291/t25.bmp             \n",
            "  inflating: __MACOSX/291/._t25.bmp  \n",
            "  inflating: 291/t31.bmp             \n",
            "  inflating: __MACOSX/291/._t31.bmp  \n",
            "  inflating: 291/t19.bmp             \n",
            "  inflating: __MACOSX/291/._t19.bmp  \n",
            "  inflating: 291/22093.jpg           \n",
            "  inflating: __MACOSX/291/._22093.jpg  \n",
            "  inflating: 291/106025.jpg          \n",
            "  inflating: __MACOSX/291/._106025.jpg  \n",
            "  inflating: 291/202012.jpg          \n",
            "  inflating: __MACOSX/291/._202012.jpg  \n",
            "  inflating: 291/159045.jpg          \n",
            "  inflating: __MACOSX/291/._159045.jpg  \n",
            "  inflating: 291/376020.jpg          \n",
            "  inflating: __MACOSX/291/._376020.jpg  \n",
            "  inflating: 291/124084.jpg          \n",
            "  inflating: __MACOSX/291/._124084.jpg  \n",
            "  inflating: 291/254054.jpg          \n",
            "  inflating: __MACOSX/291/._254054.jpg  \n",
            "  inflating: 291/25098.jpg           \n",
            "  inflating: __MACOSX/291/._25098.jpg  \n",
            "  inflating: 291/8049.jpg            \n",
            "  inflating: __MACOSX/291/._8049.jpg  \n",
            "  inflating: 291/104022.jpg          \n",
            "  inflating: __MACOSX/291/._104022.jpg  \n",
            "  inflating: 291/238011.jpg          \n",
            "  inflating: __MACOSX/291/._238011.jpg  \n",
            "  inflating: 291/t27.bmp             \n",
            "  inflating: __MACOSX/291/._t27.bmp  \n",
            "  inflating: 291/t33.bmp             \n",
            "  inflating: __MACOSX/291/._t33.bmp  \n",
            "  inflating: 291/285036.jpg          \n",
            "  inflating: __MACOSX/291/._285036.jpg  \n",
            "  inflating: 291/65132.jpg           \n",
            "  inflating: __MACOSX/291/._65132.jpg  \n",
            "  inflating: 291/326038.jpg          \n",
            "  inflating: __MACOSX/291/._326038.jpg  \n",
            "  inflating: 291/t32.bmp             \n",
            "  inflating: __MACOSX/291/._t32.bmp  \n",
            "  inflating: 291/t26.bmp             \n",
            "  inflating: __MACOSX/291/._t26.bmp  \n",
            "  inflating: 291/22090.jpg           \n",
            "  inflating: __MACOSX/291/._22090.jpg  \n",
            "  inflating: 291/159091.jpg          \n",
            "  inflating: __MACOSX/291/._159091.jpg  \n",
            "  inflating: 291/76002.jpg           \n",
            "  inflating: __MACOSX/291/._76002.jpg  \n",
            "  inflating: 291/227040.jpg          \n",
            "  inflating: __MACOSX/291/._227040.jpg  \n",
            "  inflating: 291/t9.bmp              \n",
            "  inflating: __MACOSX/291/._t9.bmp   \n",
            "  inflating: 291/145053.jpg          \n",
            "  inflating: __MACOSX/291/._145053.jpg  \n",
            "  inflating: 291/t22.bmp             \n",
            "  inflating: __MACOSX/291/._t22.bmp  \n",
            "  inflating: 291/t36.bmp             \n",
            "  inflating: __MACOSX/291/._t36.bmp  \n",
            "  inflating: 291/374020.jpg          \n",
            "  inflating: __MACOSX/291/._374020.jpg  \n",
            "  inflating: 291/46076.jpg           \n",
            "  inflating: __MACOSX/291/._46076.jpg  \n",
            "  inflating: 291/100080.jpg          \n",
            "  inflating: __MACOSX/291/._100080.jpg  \n",
            "  inflating: 291/113016.jpg          \n",
            "  inflating: __MACOSX/291/._113016.jpg  \n",
            "  inflating: 291/t37.bmp             \n",
            "  inflating: __MACOSX/291/._t37.bmp  \n",
            "  inflating: 291/t23.bmp             \n",
            "  inflating: __MACOSX/291/._t23.bmp  \n",
            "  inflating: 291/t8.bmp              \n",
            "  inflating: __MACOSX/291/._t8.bmp   \n",
            "  inflating: 291/134052.jpg          \n",
            "  inflating: __MACOSX/291/._134052.jpg  \n",
            "  inflating: 291/311068.jpg          \n",
            "  inflating: __MACOSX/291/._311068.jpg  \n",
            "  inflating: 291/239096.jpg          \n",
            "  inflating: __MACOSX/291/._239096.jpg  \n",
            "  inflating: 291/187071.jpg          \n",
            "  inflating: __MACOSX/291/._187071.jpg  \n",
            "  inflating: 291/16052.jpg           \n",
            "  inflating: __MACOSX/291/._16052.jpg  \n",
            "  inflating: 291/94079.jpg           \n",
            "  inflating: __MACOSX/291/._94079.jpg  \n",
            "  inflating: 291/311081.jpg          \n",
            "  inflating: __MACOSX/291/._311081.jpg  \n",
            "  inflating: 291/118035.jpg          \n",
            "  inflating: __MACOSX/291/._118035.jpg  \n",
            "  inflating: 291/130034.jpg          \n",
            "  inflating: __MACOSX/291/._130034.jpg  \n",
            "  inflating: 291/t35.bmp             \n",
            "  inflating: __MACOSX/291/._t35.bmp  \n",
            "  inflating: 291/t21.bmp             \n",
            "  inflating: __MACOSX/291/._t21.bmp  \n",
            "  inflating: 291/138078.jpg          \n",
            "  inflating: __MACOSX/291/._138078.jpg  \n",
            "  inflating: 291/35070.jpg           \n",
            "  inflating: __MACOSX/291/._35070.jpg  \n",
            "  inflating: 291/35058.jpg           \n",
            "  inflating: __MACOSX/291/._35058.jpg  \n",
            "  inflating: 291/260081.jpg          \n",
            "  inflating: __MACOSX/291/._260081.jpg  \n",
            "  inflating: 291/246053.jpg          \n",
            "  inflating: __MACOSX/291/._246053.jpg  \n",
            "  inflating: 291/26031.jpg           \n",
            "  inflating: __MACOSX/291/._26031.jpg  \n",
            "  inflating: 291/67079.jpg           \n",
            "  inflating: __MACOSX/291/._67079.jpg  \n",
            "  inflating: 291/t20.bmp             \n",
            "  inflating: __MACOSX/291/._t20.bmp  \n",
            "  inflating: 291/164074.jpg          \n",
            "  inflating: __MACOSX/291/._164074.jpg  \n",
            "  inflating: 291/t34.bmp             \n",
            "  inflating: __MACOSX/291/._t34.bmp  \n",
            "  inflating: 291/95006.jpg           \n",
            "  inflating: __MACOSX/291/._95006.jpg  \n",
            "  inflating: 291/27059.jpg           \n",
            "  inflating: __MACOSX/291/._27059.jpg  \n",
            "  inflating: 291/66039.jpg           \n",
            "  inflating: __MACOSX/291/._66039.jpg  \n",
            "  inflating: 291/112082.jpg          \n",
            "  inflating: __MACOSX/291/._112082.jpg  \n",
            "  inflating: 291/140075.jpg          \n",
            "  inflating: __MACOSX/291/._140075.jpg  \n",
            "  inflating: 291/106020.jpg          \n",
            "  inflating: __MACOSX/291/._106020.jpg  \n",
            "  inflating: 291/97017.jpg           \n",
            "  inflating: __MACOSX/291/._97017.jpg  \n",
            "  inflating: 291/302003.jpg          \n",
            "  inflating: __MACOSX/291/._302003.jpg  \n",
            "  inflating: 291/118020.jpg          \n",
            "  inflating: __MACOSX/291/._118020.jpg  \n",
            "  inflating: 291/365073.jpg          \n",
            "  inflating: __MACOSX/291/._365073.jpg  \n",
            "  inflating: 291/178054.jpg          \n",
            "  inflating: __MACOSX/291/._178054.jpg  \n",
            "  inflating: 291/216053.jpg          \n",
            "  inflating: __MACOSX/291/._216053.jpg  \n",
            "  inflating: 291/268002.jpg          \n",
            "  inflating: __MACOSX/291/._268002.jpg  \n",
            "  inflating: 291/368016.jpg          \n",
            "  inflating: __MACOSX/291/._368016.jpg  \n",
            "  inflating: 291/t6.bmp              \n",
            "  inflating: __MACOSX/291/._t6.bmp   \n",
            "  inflating: 291/117054.jpg          \n",
            "  inflating: __MACOSX/291/._117054.jpg  \n",
            "  inflating: 291/t39.bmp             \n",
            "  inflating: __MACOSX/291/._t39.bmp  \n",
            "  inflating: 291/t11.bmp             \n",
            "  inflating: __MACOSX/291/._t11.bmp  \n",
            "  inflating: 291/277095.jpg          \n",
            "  inflating: __MACOSX/291/._277095.jpg  \n",
            "  inflating: 291/274007.jpg          \n",
            "  inflating: __MACOSX/291/._274007.jpg  \n",
            "  inflating: 291/385028.jpg          \n",
            "  inflating: __MACOSX/291/._385028.jpg  \n",
            "  inflating: 291/48055.jpg           \n",
            "  inflating: __MACOSX/291/._48055.jpg  \n",
            "  inflating: 291/t10.bmp             \n",
            "  inflating: __MACOSX/291/._t10.bmp  \n",
            "  inflating: 291/t38.bmp             \n",
            "  inflating: __MACOSX/291/._t38.bmp  \n",
            "  inflating: 291/286092.jpg          \n",
            "  inflating: __MACOSX/291/._286092.jpg  \n",
            "  inflating: 291/t7.bmp              \n",
            "  inflating: __MACOSX/291/._t7.bmp   \n",
            "  inflating: 291/23025.jpg           \n",
            "  inflating: __MACOSX/291/._23025.jpg  \n",
            "  inflating: 291/24004.jpg           \n",
            "  inflating: __MACOSX/291/._24004.jpg  \n",
            "  inflating: 291/323016.jpg          \n",
            "  inflating: __MACOSX/291/._323016.jpg  \n",
            "  inflating: 291/271008.jpg          \n",
            "  inflating: __MACOSX/291/._271008.jpg  \n",
            "  inflating: 291/376001.jpg          \n",
            "  inflating: __MACOSX/291/._376001.jpg  \n",
            "  inflating: 291/187083.jpg          \n",
            "  inflating: __MACOSX/291/._187083.jpg  \n",
            "  inflating: 291/161062.jpg          \n",
            "  inflating: __MACOSX/291/._161062.jpg  \n",
            "  inflating: 291/188005.jpg          \n",
            "  inflating: __MACOSX/291/._188005.jpg  \n",
            "  inflating: 291/t5.bmp              \n",
            "  inflating: __MACOSX/291/._t5.bmp   \n",
            "  inflating: 291/t12.bmp             \n",
            "  inflating: __MACOSX/291/._t12.bmp  \n",
            "  inflating: 291/100098.jpg          \n",
            "  inflating: __MACOSX/291/._100098.jpg  \n",
            "  inflating: 291/135037.jpg          \n",
            "  inflating: __MACOSX/291/._135037.jpg  \n",
            "  inflating: 291/309004.jpg          \n",
            "  inflating: __MACOSX/291/._309004.jpg  \n",
            "  inflating: 291/169012.jpg          \n",
            "  inflating: __MACOSX/291/._169012.jpg  \n",
            "  inflating: 291/t13.bmp             \n",
            "  inflating: __MACOSX/291/._t13.bmp  \n",
            "  inflating: 291/231015.jpg          \n",
            "  inflating: __MACOSX/291/._231015.jpg  \n",
            "  inflating: 291/t4.bmp              \n",
            "  inflating: __MACOSX/291/._t4.bmp   \n",
            "  inflating: 291/166081.jpg          \n",
            "  inflating: __MACOSX/291/._166081.jpg  \n",
            "  inflating: 291/271031.jpg          \n",
            "  inflating: __MACOSX/291/._271031.jpg  \n",
            "  inflating: 291/216041.jpg          \n",
            "  inflating: __MACOSX/291/._216041.jpg  \n",
            "  inflating: 291/181018.jpg          \n",
            "  inflating: __MACOSX/291/._181018.jpg  \n",
            "  inflating: 291/t17.bmp             \n",
            "  inflating: __MACOSX/291/._t17.bmp  \n",
            "  inflating: 291/163062.jpg          \n",
            "  inflating: __MACOSX/291/._163062.jpg  \n",
            "  inflating: 291/35091.jpg           \n",
            "  inflating: __MACOSX/291/._35091.jpg  \n",
            "  inflating: 291/198004.jpg          \n",
            "  inflating: __MACOSX/291/._198004.jpg  \n",
            "  inflating: 291/196015.jpg          \n",
            "  inflating: __MACOSX/291/._196015.jpg  \n",
            "  inflating: 291/t16.bmp             \n",
            "  inflating: __MACOSX/291/._t16.bmp  \n",
            "  inflating: 291/t1.bmp              \n",
            "  inflating: __MACOSX/291/._t1.bmp   \n",
            "  inflating: 291/172032.jpg          \n",
            "  inflating: __MACOSX/291/._172032.jpg  \n",
            "  inflating: 291/12003.jpg           \n",
            "  inflating: __MACOSX/291/._12003.jpg  \n",
            "  inflating: 291/147062.jpg          \n",
            "  inflating: __MACOSX/291/._147062.jpg  \n",
            "  inflating: 291/105053.jpg          \n",
            "  inflating: __MACOSX/291/._105053.jpg  \n",
            "  inflating: 291/43070.jpg           \n",
            "  inflating: __MACOSX/291/._43070.jpg  \n",
            "  inflating: 291/65074.jpg           \n",
            "  inflating: __MACOSX/291/._65074.jpg  \n",
            "  inflating: 291/78019.jpg           \n",
            "  inflating: __MACOSX/291/._78019.jpg  \n",
            "  inflating: 291/140055.jpg          \n",
            "  inflating: __MACOSX/291/._140055.jpg  \n",
            "  inflating: 291/t3.bmp              \n",
            "  inflating: __MACOSX/291/._t3.bmp   \n",
            "  inflating: 291/t14.bmp             \n",
            "  inflating: __MACOSX/291/._t14.bmp  \n",
            "  inflating: 291/t28.bmp             \n",
            "  inflating: __MACOSX/291/._t28.bmp  \n",
            "  inflating: 291/100075.jpg          \n",
            "  inflating: __MACOSX/291/._100075.jpg  \n",
            "  inflating: 291/113009.jpg          \n",
            "  inflating: __MACOSX/291/._113009.jpg  \n",
            "  inflating: 291/155060.jpg          \n",
            "  inflating: __MACOSX/291/._155060.jpg  \n",
            "  inflating: 291/60079.jpg           \n",
            "  inflating: __MACOSX/291/._60079.jpg  \n",
            "  inflating: 291/t29.bmp             \n",
            "  inflating: __MACOSX/291/._t29.bmp  \n",
            "  inflating: 291/t15.bmp             \n",
            "  inflating: __MACOSX/291/._t15.bmp  \n",
            "  inflating: 291/t2.bmp              \n",
            "  inflating: __MACOSX/291/._t2.bmp   \n",
            "  inflating: 291/23084.jpg           \n",
            "  inflating: __MACOSX/291/._23084.jpg  \n",
            "  inflating: 291/249087.jpg          \n",
            "  inflating: __MACOSX/291/._249087.jpg  \n",
            "  inflating: 291/183087.jpg          \n",
            "  inflating: __MACOSX/291/._183087.jpg  \n",
            "  inflating: 291/tt13.bmp            \n",
            "  inflating: __MACOSX/291/._tt13.bmp  \n",
            "  inflating: 291/45077.jpg           \n",
            "  inflating: __MACOSX/291/._45077.jpg  \n",
            "  inflating: 291/22013.jpg           \n",
            "  inflating: __MACOSX/291/._22013.jpg  \n",
            "  inflating: 291/t66.bmp             \n",
            "  inflating: __MACOSX/291/._t66.bmp  \n",
            "  inflating: 291/tt4.bmp             \n",
            "  inflating: __MACOSX/291/._tt4.bmp  \n",
            "  inflating: 291/209070.jpg          \n",
            "  inflating: __MACOSX/291/._209070.jpg  \n",
            "  inflating: 291/55067.jpg           \n",
            "  inflating: __MACOSX/291/._55067.jpg  \n",
            "  inflating: 291/tt5.bmp             \n",
            "  inflating: __MACOSX/291/._tt5.bmp  \n",
            "  inflating: 291/245051.jpg          \n",
            "  inflating: __MACOSX/291/._245051.jpg  \n",
            "  inflating: 291/tt12.bmp            \n",
            "  inflating: __MACOSX/291/._tt12.bmp  \n",
            "  inflating: 291/239007.jpg          \n",
            "  inflating: __MACOSX/291/._239007.jpg  \n",
            "  inflating: 291/176019.jpg          \n",
            "  inflating: __MACOSX/291/._176019.jpg  \n",
            "  inflating: 291/8143.jpg            \n",
            "  inflating: __MACOSX/291/._8143.jpg  \n",
            "  inflating: 291/103041.jpg          \n",
            "  inflating: __MACOSX/291/._103041.jpg  \n",
            "  inflating: 291/145014.jpg          \n",
            "  inflating: __MACOSX/291/._145014.jpg  \n",
            "  inflating: 291/tt10.bmp            \n",
            "  inflating: __MACOSX/291/._tt10.bmp  \n",
            "  inflating: 291/t59.bmp             \n",
            "  inflating: __MACOSX/291/._t59.bmp  \n",
            "  inflating: 291/t65.bmp             \n",
            "  inflating: __MACOSX/291/._t65.bmp  \n",
            "  inflating: 291/tt7.bmp             \n",
            "  inflating: __MACOSX/291/._tt7.bmp  \n",
            "  inflating: 291/113044.jpg          \n",
            "  inflating: __MACOSX/291/._113044.jpg  \n",
            "  inflating: 291/374067.jpg          \n",
            "  inflating: __MACOSX/291/._374067.jpg  \n",
            "  inflating: 291/41004.jpg           \n",
            "  inflating: __MACOSX/291/._41004.jpg  \n",
            "  inflating: 291/109034.jpg          \n",
            "  inflating: __MACOSX/291/._109034.jpg  \n",
            "  inflating: 291/35008.jpg           \n",
            "  inflating: __MACOSX/291/._35008.jpg  \n",
            "  inflating: 291/246016.jpg          \n",
            "  inflating: __MACOSX/291/._246016.jpg  \n",
            "  inflating: 291/135069.jpg          \n",
            "  inflating: __MACOSX/291/._135069.jpg  \n",
            "  inflating: 291/tt6.bmp             \n",
            "  inflating: __MACOSX/291/._tt6.bmp  \n",
            "  inflating: 291/t64.bmp             \n",
            "  inflating: __MACOSX/291/._t64.bmp  \n",
            "  inflating: 291/t58.bmp             \n",
            "  inflating: __MACOSX/291/._t58.bmp  \n",
            "  inflating: 291/225017.jpg          \n",
            "  inflating: __MACOSX/291/._225017.jpg  \n",
            "  inflating: 291/361084.jpg          \n",
            "  inflating: __MACOSX/291/._361084.jpg  \n",
            "  inflating: 291/61060.jpg           \n",
            "  inflating: __MACOSX/291/._61060.jpg  \n",
            "  inflating: 291/253036.jpg          \n",
            "  inflating: __MACOSX/291/._253036.jpg  \n",
            "  inflating: 291/65010.jpg           \n",
            "  inflating: __MACOSX/291/._65010.jpg  \n",
            "  inflating: 291/105019.jpg          \n",
            "  inflating: __MACOSX/291/._105019.jpg  \n",
            "  inflating: 291/90076.jpg           \n",
            "  inflating: __MACOSX/291/._90076.jpg  \n",
            "  inflating: 291/42078.jpg           \n",
            "  inflating: __MACOSX/291/._42078.jpg  \n",
            "  inflating: 291/tt15.bmp            \n",
            "  inflating: __MACOSX/291/._tt15.bmp  \n",
            "  inflating: 291/42044.jpg           \n",
            "  inflating: __MACOSX/291/._42044.jpg  \n",
            "  inflating: 291/156079.jpg          \n",
            "  inflating: __MACOSX/291/._156079.jpg  \n",
            "  inflating: 291/188063.jpg          \n",
            "  inflating: __MACOSX/291/._188063.jpg  \n",
            "  inflating: 291/t60.bmp             \n",
            "  inflating: __MACOSX/291/._t60.bmp  \n",
            "  inflating: 291/t48.bmp             \n",
            "  inflating: __MACOSX/291/._t48.bmp  \n",
            "  inflating: 291/tt2.bmp             \n",
            "  inflating: __MACOSX/291/._tt2.bmp  \n",
            "  inflating: 291/126039.jpg          \n",
            "  inflating: __MACOSX/291/._126039.jpg  \n",
            "  inflating: 291/28075.jpg           \n",
            "  inflating: __MACOSX/291/._28075.jpg  \n",
            "  inflating: 291/tt3.bmp             \n",
            "  inflating: __MACOSX/291/._tt3.bmp  \n",
            "  inflating: 291/55075.jpg           \n",
            "  inflating: __MACOSX/291/._55075.jpg  \n",
            "  inflating: 291/122048.jpg          \n",
            "  inflating: __MACOSX/291/._122048.jpg  \n",
            "  inflating: 291/163014.jpg          \n",
            "  inflating: __MACOSX/291/._163014.jpg  \n",
            "  inflating: 291/t49.bmp             \n",
            "  inflating: __MACOSX/291/._t49.bmp  \n",
            "  inflating: 291/181091.jpg          \n",
            "  inflating: __MACOSX/291/._181091.jpg  \n",
            "  inflating: 291/170054.jpg          \n",
            "  inflating: __MACOSX/291/._170054.jpg  \n",
            "  inflating: 291/t61.bmp             \n",
            "  inflating: __MACOSX/291/._t61.bmp  \n",
            "  inflating: 291/tt14.bmp            \n",
            "  inflating: __MACOSX/291/._tt14.bmp  \n",
            "  inflating: 291/301007.jpg          \n",
            "  inflating: __MACOSX/291/._301007.jpg  \n",
            "  inflating: 291/12074.jpg           \n",
            "  inflating: __MACOSX/291/._12074.jpg  \n",
            "  inflating: 291/247085.jpg          \n",
            "  inflating: __MACOSX/291/._247085.jpg  \n",
            "  inflating: 291/293029.jpg          \n",
            "  inflating: __MACOSX/291/._293029.jpg  \n",
            "  inflating: 291/176035.jpg          \n",
            "  inflating: __MACOSX/291/._176035.jpg  \n",
            "  inflating: 291/80099.jpg           \n",
            "  inflating: __MACOSX/291/._80099.jpg  \n",
            "  inflating: 291/159029.jpg          \n",
            "  inflating: __MACOSX/291/._159029.jpg  \n",
            "  inflating: 291/24063.jpg           \n",
            "  inflating: __MACOSX/291/._24063.jpg  \n",
            "  inflating: 291/183055.jpg          \n",
            "  inflating: __MACOSX/291/._183055.jpg  \n",
            "  inflating: 291/tt16.bmp            \n",
            "  inflating: __MACOSX/291/._tt16.bmp  \n",
            "  inflating: 291/t63.bmp             \n",
            "  inflating: __MACOSX/291/._t63.bmp  \n",
            "  inflating: 291/tt1.bmp             \n",
            "  inflating: __MACOSX/291/._tt1.bmp  \n",
            "  inflating: 291/2092.jpg            \n",
            "  inflating: __MACOSX/291/._2092.jpg  \n",
            "  inflating: 291/t62.bmp             \n",
            "  inflating: __MACOSX/291/._t62.bmp  \n",
            "  inflating: 291/tt17.bmp            \n",
            "  inflating: __MACOSX/291/._tt17.bmp  \n",
            "  inflating: 291/181079.jpg          \n",
            "  inflating: __MACOSX/291/._181079.jpg  \n",
            "  inflating: 291/92059.jpg           \n",
            "  inflating: __MACOSX/291/._92059.jpg  \n",
            "  inflating: 291/108073.jpg          \n",
            "  inflating: __MACOSX/291/._108073.jpg  \n",
            "  inflating: 291/153077.jpg          \n",
            "  inflating: __MACOSX/291/._153077.jpg  \n",
            "  inflating: 291/23080.jpg           \n",
            "  inflating: __MACOSX/291/._23080.jpg  \n",
            "  inflating: 291/365025.jpg          \n",
            "  inflating: __MACOSX/291/._365025.jpg  \n"
          ],
          "name": "stdout"
        }
      ]
    },
    {
      "cell_type": "code",
      "metadata": {
        "id": "MhMOYkoWVKiU",
        "colab_type": "code",
        "colab": {
          "base_uri": "https://localhost:8080/",
          "height": 122
        },
        "outputId": "97dacc2c-a245-40d6-8c7c-fe62a22c99a8"
      },
      "source": [
        "import cv2\n",
        "import numpy as np\n",
        "import os\n",
        "from glob import glob\n",
        "import math\n",
        "import matplotlib.pyplot as plt\n",
        "import imageio\n",
        "\n",
        "#freeimageをdownloadしておかないとエラーとなる。\n",
        "imageio.plugins.freeimage.download()"
      ],
      "execution_count": 4,
      "outputs": [
        {
          "output_type": "stream",
          "text": [
            "Imageio: 'libfreeimage-3.16.0-linux64.so' was not found on your computer; downloading it now.\n",
            "Try 1. Download from https://github.com/imageio/imageio-binaries/raw/master/freeimage/libfreeimage-3.16.0-linux64.so (4.6 MB)\n",
            "Downloading: 8192/4830080 bytes (0.2%)\b\b\b\b\b\b\b\b\b\b\b\b\b\b\b\b\b\b\b\b\b\b\b\b\b3039232/4830080 bytes (62.9%)\b\b\b\b\b\b\b\b\b\b\b\b\b\b\b\b\b\b\b\b\b\b\b\b\b\b\b\b\b4830080/4830080 bytes (100.0%)\n",
            "  Done\n",
            "File saved as /root/.imageio/freeimage/libfreeimage-3.16.0-linux64.so.\n"
          ],
          "name": "stdout"
        }
      ]
    },
    {
      "cell_type": "markdown",
      "metadata": {
        "id": "rbrMPkVOXYdV",
        "colab_type": "text"
      },
      "source": [
        "291種類のファイルのパスを取得する。"
      ]
    },
    {
      "cell_type": "code",
      "metadata": {
        "id": "NlZnLOpPVFcW",
        "colab_type": "code",
        "colab": {}
      },
      "source": [
        "#291種類の画像データが格納されているフォルダ\n",
        "TRAIN_SOURCE_DIR = '291'\n",
        "\n",
        "#data augmentationをした画像を保存するフォルダ\n",
        "TRAIN_TARGET_DIR = 'train'\n",
        "\n",
        "sources = glob(\"{}/*.jpg\".format(TRAIN_SOURCE_DIR)) + glob(\"{}/*.bmp\".format(TRAIN_SOURCE_DIR))"
      ],
      "execution_count": 0,
      "outputs": []
    },
    {
      "cell_type": "code",
      "metadata": {
        "id": "r-4bvNX2WdO2",
        "colab_type": "code",
        "outputId": "8cb72e99-4d19-40a2-dbfa-95711a3906c2",
        "colab": {
          "base_uri": "https://localhost:8080/",
          "height": 102
        }
      },
      "source": [
        "sources[:5]"
      ],
      "execution_count": 6,
      "outputs": [
        {
          "output_type": "execute_result",
          "data": {
            "text/plain": [
              "['291/202012.jpg',\n",
              " '291/254054.jpg',\n",
              " '291/176039.jpg',\n",
              " '291/106020.jpg',\n",
              " '291/372047.jpg']"
            ]
          },
          "metadata": {
            "tags": []
          },
          "execution_count": 6
        }
      ]
    },
    {
      "cell_type": "code",
      "metadata": {
        "id": "tc7i5S7oWd7M",
        "colab_type": "code",
        "outputId": "11844dcd-538e-478d-f1f7-a59bb0aa2e5d",
        "colab": {
          "base_uri": "https://localhost:8080/",
          "height": 34
        }
      },
      "source": [
        "sources[286:]"
      ],
      "execution_count": 7,
      "outputs": [
        {
          "output_type": "execute_result",
          "data": {
            "text/plain": [
              "['291/t14.bmp', '291/t9.bmp', '291/tt12.bmp', '291/t55.bmp', '291/tt3.bmp']"
            ]
          },
          "metadata": {
            "tags": []
          },
          "execution_count": 7
        }
      ]
    },
    {
      "cell_type": "code",
      "metadata": {
        "id": "6UaUv7F_Xi6O",
        "colab_type": "code",
        "outputId": "4307a912-a4df-4201-cc0d-f81a1968f714",
        "colab": {
          "base_uri": "https://localhost:8080/",
          "height": 34
        }
      },
      "source": [
        "len(sources)"
      ],
      "execution_count": 8,
      "outputs": [
        {
          "output_type": "execute_result",
          "data": {
            "text/plain": [
              "291"
            ]
          },
          "metadata": {
            "tags": []
          },
          "execution_count": 8
        }
      ]
    },
    {
      "cell_type": "markdown",
      "metadata": {
        "id": "fyBf4E3LXtEd",
        "colab_type": "text"
      },
      "source": [
        "各ファイルパスから得られる画像に対して、data augmentationを行う。"
      ]
    },
    {
      "cell_type": "code",
      "metadata": {
        "id": "5tpgk0H5XrEb",
        "colab_type": "code",
        "outputId": "7bba63a6-d95a-46ce-a023-7a816166f31b",
        "colab": {
          "base_uri": "https://localhost:8080/",
          "height": 1000
        }
      },
      "source": [
        "%%time\n",
        "\n",
        "#保存先ディレクトリの作成\n",
        "if os.path.isdir(TRAIN_TARGET_DIR) == False:\n",
        "  os.mkdir(TRAIN_TARGET_DIR)\n",
        "\n",
        "#パッチの総数\n",
        "patch_count = 0\n",
        "#処理した画像の枚数\n",
        "img_num = 0\n",
        "for source in sources:\n",
        "  #パスから画像をロード\n",
        "  img_raw = cv2.imread(source)\n",
        "  img_raw = cv2.cvtColor(img_raw, cv2.COLOR_BGR2YCrCb)\n",
        "  \n",
        "  #ピクセル値を0.0~1.0の間に正規化\n",
        "  #https://ja.coder.work/so/python/385751\n",
        "  img_raw = cv2.normalize(img_raw.astype(float), None, 0.0, 1.0, cv2.NORM_MINMAX)\n",
        "\n",
        "  height, width, _ = img_raw.shape\n",
        "  size = (width, height)\n",
        "\n",
        "  #クロッピング\n",
        "  img_raw = img_raw[1:(height-np.mod(height, 12)), 0:(width-np.mod(width, 12))]\n",
        "\n",
        "  img_shape = img_raw.shape\n",
        "  patch_size = 32\n",
        "  stride = 32\n",
        "  x_size = math.floor((width - patch_size)/stride + 1)\n",
        "  y_size = math.floor((height - patch_size)/stride + 1)\n",
        "\n",
        "  #data augmentation\n",
        "  for x in range(x_size):\n",
        "    for y in range(y_size):\n",
        "      x_coord = x * stride\n",
        "      y_coord = y * stride\n",
        "\n",
        "      #パッチその１(クリッピングのみ)\n",
        "      patch_name = os.path.join(TRAIN_TARGET_DIR, str(patch_count))\n",
        "      patch = img_raw[y_coord+1:y_coord+patch_size, x_coord+1:x_coord+patch_size]\n",
        "      imageio.imwrite('{}.exr'.format(patch_name), patch.astype('float32'), format='EXR-FI')\n",
        "      ph, pw, _ = patch.shape\n",
        "      patch_2 = cv2.resize(patch, (ph // 2, pw // 2), cv2.INTER_CUBIC)\n",
        "      imageio.imwrite('{}_2.exr'.format(patch_name), patch_2.astype('float32'), format='EXR-FI')\n",
        "      patch_3 = cv2.resize(patch, (ph // 3, pw // 3), cv2.INTER_CUBIC)\n",
        "      imageio.imwrite('{}_3.exr'.format(patch_name), patch_3.astype('float32'), format='EXR-FI')\n",
        "      patch_4 = cv2.resize(patch, (ph // 4, pw // 4), cv2.INTER_CUBIC)\n",
        "      imageio.imwrite('{}_4.exr'.format(patch_name), patch_4.astype('float32'), format='EXR-FI')\n",
        "\n",
        "      patch_count += 1\n",
        "\n",
        "      #パッチその2(クリッピング+90°回転)\n",
        "      patch_name = os.path.join(TRAIN_TARGET_DIR, str(patch_count))\n",
        "      patch = img_raw[y_coord+1:y_coord+patch_size, x_coord+1:x_coord+patch_size]\n",
        "      patch = np.rot90(patch, k=1)\n",
        "      imageio.imwrite('{}.exr'.format(patch_name), patch.astype('float32'), format='EXR-FI')\n",
        "      ph, pw, _ = patch.shape\n",
        "      patch_2 = cv2.resize(patch, (ph // 2, pw // 2), cv2.INTER_CUBIC)\n",
        "      imageio.imwrite('{}_2.exr'.format(patch_name), patch_2.astype('float32'), format='EXR-FI')\n",
        "      patch_3 = cv2.resize(patch, (ph // 3, pw // 3), cv2.INTER_CUBIC)\n",
        "      imageio.imwrite('{}_3.exr'.format(patch_name), patch_3.astype('float32'), format='EXR-FI')\n",
        "      patch_4 = cv2.resize(patch, (ph // 4, pw // 4), cv2.INTER_CUBIC)\n",
        "      imageio.imwrite('{}_4.exr'.format(patch_name), patch_4.astype('float32'), format='EXR-FI')\n",
        "\n",
        "      patch_count += 1\n",
        "\n",
        "      #パッチその3(クリッピング+左右反転)\n",
        "      patch_name = os.path.join(TRAIN_TARGET_DIR, str(patch_count))\n",
        "      patch = img_raw[y_coord+1:y_coord+patch_size, x_coord+1:x_coord+patch_size]\n",
        "      patch = np.fliplr(patch)\n",
        "      imageio.imwrite('{}.exr'.format(patch_name), patch.astype('float32'), format='EXR-FI')\n",
        "      ph, pw, _ = patch.shape\n",
        "      patch_2 = cv2.resize(patch, (ph // 2, pw // 2), cv2.INTER_CUBIC)\n",
        "      imageio.imwrite('{}_2.exr'.format(patch_name), patch_2.astype('float32'), format='EXR-FI')\n",
        "      patch_3 = cv2.resize(patch, (ph // 3, pw // 3), cv2.INTER_CUBIC)\n",
        "      imageio.imwrite('{}_3.exr'.format(patch_name), patch_3.astype('float32'), format='EXR-FI')\n",
        "      patch_4 = cv2.resize(patch, (ph // 4, pw // 4), cv2.INTER_CUBIC)\n",
        "      imageio.imwrite('{}_4.exr'.format(patch_name), patch_4.astype('float32'), format='EXR-FI')\n",
        "\n",
        "      patch_count += 1\n",
        "\n",
        "      #パッチその4(クリッピング+左右反転+90°回転)\n",
        "      patch_name = os.path.join(TRAIN_TARGET_DIR, str(patch_count))\n",
        "      patch = img_raw[y_coord+1:y_coord+patch_size, x_coord+1:x_coord+patch_size]\n",
        "      patch = np.fliplr(patch)\n",
        "      patch = np.rot90(patch, k=1)\n",
        "      imageio.imwrite('{}.exr'.format(patch_name), patch.astype('float32'), format='EXR-FI')\n",
        "      ph, pw, _ = patch.shape\n",
        "      patch_2 = cv2.resize(patch, (ph // 2, pw // 2), cv2.INTER_CUBIC)\n",
        "      imageio.imwrite('{}_2.exr'.format(patch_name), patch_2.astype('float32'), format='EXR-FI')\n",
        "      patch_3 = cv2.resize(patch, (ph // 3, pw // 3), cv2.INTER_CUBIC)\n",
        "      imageio.imwrite('{}_3.exr'.format(patch_name), patch_3.astype('float32'), format='EXR-FI')\n",
        "      patch_4 = cv2.resize(patch, (ph // 4, pw // 4), cv2.INTER_CUBIC)\n",
        "      imageio.imwrite('{}_4.exr'.format(patch_name), patch_4.astype('float32'), format='EXR-FI')\n",
        "\n",
        "      patch_count += 1\n",
        "  \n",
        "  img_num += 1\n",
        "  print(img_num)"
      ],
      "execution_count": 9,
      "outputs": [
        {
          "output_type": "stream",
          "text": [
            "1\n",
            "2\n",
            "3\n",
            "4\n",
            "5\n",
            "6\n",
            "7\n",
            "8\n",
            "9\n",
            "10\n",
            "11\n",
            "12\n",
            "13\n",
            "14\n",
            "15\n",
            "16\n",
            "17\n",
            "18\n",
            "19\n",
            "20\n",
            "21\n",
            "22\n",
            "23\n",
            "24\n",
            "25\n",
            "26\n",
            "27\n",
            "28\n",
            "29\n",
            "30\n",
            "31\n",
            "32\n",
            "33\n",
            "34\n",
            "35\n",
            "36\n",
            "37\n",
            "38\n",
            "39\n",
            "40\n",
            "41\n",
            "42\n",
            "43\n",
            "44\n",
            "45\n",
            "46\n",
            "47\n",
            "48\n",
            "49\n",
            "50\n",
            "51\n",
            "52\n",
            "53\n",
            "54\n",
            "55\n",
            "56\n",
            "57\n",
            "58\n",
            "59\n",
            "60\n",
            "61\n",
            "62\n",
            "63\n",
            "64\n",
            "65\n",
            "66\n",
            "67\n",
            "68\n",
            "69\n",
            "70\n",
            "71\n",
            "72\n",
            "73\n",
            "74\n",
            "75\n",
            "76\n",
            "77\n",
            "78\n",
            "79\n",
            "80\n",
            "81\n",
            "82\n",
            "83\n",
            "84\n",
            "85\n",
            "86\n",
            "87\n",
            "88\n",
            "89\n",
            "90\n",
            "91\n",
            "92\n",
            "93\n",
            "94\n",
            "95\n",
            "96\n",
            "97\n",
            "98\n",
            "99\n",
            "100\n",
            "101\n",
            "102\n",
            "103\n",
            "104\n",
            "105\n",
            "106\n",
            "107\n",
            "108\n",
            "109\n",
            "110\n",
            "111\n",
            "112\n",
            "113\n",
            "114\n",
            "115\n",
            "116\n",
            "117\n",
            "118\n",
            "119\n",
            "120\n",
            "121\n",
            "122\n",
            "123\n",
            "124\n",
            "125\n",
            "126\n",
            "127\n",
            "128\n",
            "129\n",
            "130\n",
            "131\n",
            "132\n",
            "133\n",
            "134\n",
            "135\n",
            "136\n",
            "137\n",
            "138\n",
            "139\n",
            "140\n",
            "141\n",
            "142\n",
            "143\n",
            "144\n",
            "145\n",
            "146\n",
            "147\n",
            "148\n",
            "149\n",
            "150\n",
            "151\n",
            "152\n",
            "153\n",
            "154\n",
            "155\n",
            "156\n",
            "157\n",
            "158\n",
            "159\n",
            "160\n",
            "161\n",
            "162\n",
            "163\n",
            "164\n",
            "165\n",
            "166\n",
            "167\n",
            "168\n",
            "169\n",
            "170\n",
            "171\n",
            "172\n",
            "173\n",
            "174\n",
            "175\n",
            "176\n",
            "177\n",
            "178\n",
            "179\n",
            "180\n",
            "181\n",
            "182\n",
            "183\n",
            "184\n",
            "185\n",
            "186\n",
            "187\n",
            "188\n",
            "189\n",
            "190\n",
            "191\n",
            "192\n",
            "193\n",
            "194\n",
            "195\n",
            "196\n",
            "197\n",
            "198\n",
            "199\n",
            "200\n",
            "201\n",
            "202\n",
            "203\n",
            "204\n",
            "205\n",
            "206\n",
            "207\n",
            "208\n",
            "209\n",
            "210\n",
            "211\n",
            "212\n",
            "213\n",
            "214\n",
            "215\n",
            "216\n",
            "217\n",
            "218\n",
            "219\n",
            "220\n",
            "221\n",
            "222\n",
            "223\n",
            "224\n",
            "225\n",
            "226\n",
            "227\n",
            "228\n",
            "229\n",
            "230\n",
            "231\n",
            "232\n",
            "233\n",
            "234\n",
            "235\n",
            "236\n",
            "237\n",
            "238\n",
            "239\n",
            "240\n",
            "241\n",
            "242\n",
            "243\n",
            "244\n",
            "245\n",
            "246\n",
            "247\n",
            "248\n",
            "249\n",
            "250\n",
            "251\n",
            "252\n",
            "253\n",
            "254\n",
            "255\n",
            "256\n",
            "257\n",
            "258\n",
            "259\n",
            "260\n",
            "261\n",
            "262\n",
            "263\n",
            "264\n",
            "265\n",
            "266\n",
            "267\n",
            "268\n",
            "269\n",
            "270\n",
            "271\n",
            "272\n",
            "273\n",
            "274\n",
            "275\n",
            "276\n",
            "277\n",
            "278\n",
            "279\n",
            "280\n",
            "281\n",
            "282\n",
            "283\n",
            "284\n",
            "285\n",
            "286\n",
            "287\n",
            "288\n",
            "289\n",
            "290\n",
            "291\n",
            "CPU times: user 9min 49s, sys: 1min, total: 10min 50s\n",
            "Wall time: 10min 51s\n"
          ],
          "name": "stdout"
        }
      ]
    },
    {
      "cell_type": "markdown",
      "metadata": {
        "id": "FnHWBbpkl25h",
        "colab_type": "text"
      },
      "source": [
        "float32だと流石に書き込みに時間がかかる。10分ぐらいかかった。\n",
        "\n",
        "data augmentationした画像が保存できているかどうか確認する。"
      ]
    },
    {
      "cell_type": "code",
      "metadata": {
        "id": "MhU0W1YvltCb",
        "colab_type": "code",
        "colab": {}
      },
      "source": [
        "img = imageio.imread('train/0.exr')"
      ],
      "execution_count": 0,
      "outputs": []
    },
    {
      "cell_type": "code",
      "metadata": {
        "id": "eESRYkjJlxQo",
        "colab_type": "code",
        "outputId": "08432ce3-6a8e-416b-a2be-afbc9e3f46d0",
        "colab": {
          "base_uri": "https://localhost:8080/",
          "height": 34
        }
      },
      "source": [
        "img[0, 0]"
      ],
      "execution_count": 11,
      "outputs": [
        {
          "output_type": "execute_result",
          "data": {
            "text/plain": [
              "Array([0.19519043, 0.48608398, 0.43823242], dtype=float32)"
            ]
          },
          "metadata": {
            "tags": []
          },
          "execution_count": 11
        }
      ]
    },
    {
      "cell_type": "code",
      "metadata": {
        "id": "RIuMDTiZlzP_",
        "colab_type": "code",
        "outputId": "5b98f2bf-3d20-4b23-ddde-2588f8658da1",
        "colab": {
          "base_uri": "https://localhost:8080/",
          "height": 34
        }
      },
      "source": [
        "type(img[0, 0, 0])"
      ],
      "execution_count": 12,
      "outputs": [
        {
          "output_type": "execute_result",
          "data": {
            "text/plain": [
              "numpy.float32"
            ]
          },
          "metadata": {
            "tags": []
          },
          "execution_count": 12
        }
      ]
    },
    {
      "cell_type": "markdown",
      "metadata": {
        "id": "NoRGWLz_UJhN",
        "colab_type": "text"
      },
      "source": [
        "続いて、testデータもdata augmentationする。testデータのdata augmentationの手順は、traindデータのそれとほぼ一緒。testデータのdata augmentationでは、パッチの種類が１種類である点だけが異なる。\n",
        "\n",
        "まずは、test画像のファイルパスを取得する。"
      ]
    },
    {
      "cell_type": "code",
      "metadata": {
        "id": "bvQ_x52CUpDF",
        "colab_type": "code",
        "outputId": "d695e504-16ec-438f-c4a2-364c38b7184d",
        "colab": {
          "base_uri": "https://localhost:8080/",
          "height": 238
        }
      },
      "source": [
        "%%time\n",
        "!unzip 'Set5.zip'"
      ],
      "execution_count": 13,
      "outputs": [
        {
          "output_type": "stream",
          "text": [
            "Archive:  Set5.zip\n",
            "   creating: Set5/\n",
            "  inflating: __MACOSX/._Set5         \n",
            "  inflating: Set5/woman_GT.bmp       \n",
            "  inflating: __MACOSX/Set5/._woman_GT.bmp  \n",
            "  inflating: Set5/butterfly_GT.bmp   \n",
            "  inflating: __MACOSX/Set5/._butterfly_GT.bmp  \n",
            "  inflating: Set5/bird_GT.bmp        \n",
            "  inflating: __MACOSX/Set5/._bird_GT.bmp  \n",
            "  inflating: Set5/head_GT.bmp        \n",
            "  inflating: __MACOSX/Set5/._head_GT.bmp  \n",
            "  inflating: Set5/baby_GT.bmp        \n",
            "  inflating: __MACOSX/Set5/._baby_GT.bmp  \n"
          ],
          "name": "stdout"
        }
      ]
    },
    {
      "cell_type": "code",
      "metadata": {
        "id": "uVilshAKymlo",
        "colab_type": "code",
        "colab": {}
      },
      "source": [
        "TEST_SOURCE_DIR = 'Set5'\n",
        "TEST_TARGET_DIR = 'test'\n",
        "\n",
        "test_sources = glob('{}/*.bmp'.format(TEST_SOURCE_DIR))"
      ],
      "execution_count": 0,
      "outputs": []
    },
    {
      "cell_type": "code",
      "metadata": {
        "id": "02zNL2y0U9tm",
        "colab_type": "code",
        "outputId": "a0400272-bdcc-495c-b961-4112be7193d9",
        "colab": {
          "base_uri": "https://localhost:8080/",
          "height": 34
        }
      },
      "source": [
        "len(test_sources)"
      ],
      "execution_count": 15,
      "outputs": [
        {
          "output_type": "execute_result",
          "data": {
            "text/plain": [
              "5"
            ]
          },
          "metadata": {
            "tags": []
          },
          "execution_count": 15
        }
      ]
    },
    {
      "cell_type": "code",
      "metadata": {
        "id": "uPjO2OaHU-9r",
        "colab_type": "code",
        "outputId": "0a0581d6-b9ed-4ead-e8f8-c39579fc9a34",
        "colab": {
          "base_uri": "https://localhost:8080/",
          "height": 102
        }
      },
      "source": [
        "test_sources"
      ],
      "execution_count": 16,
      "outputs": [
        {
          "output_type": "execute_result",
          "data": {
            "text/plain": [
              "['Set5/woman_GT.bmp',\n",
              " 'Set5/bird_GT.bmp',\n",
              " 'Set5/head_GT.bmp',\n",
              " 'Set5/butterfly_GT.bmp',\n",
              " 'Set5/baby_GT.bmp']"
            ]
          },
          "metadata": {
            "tags": []
          },
          "execution_count": 16
        }
      ]
    },
    {
      "cell_type": "markdown",
      "metadata": {
        "id": "3EUrt04IVBl8",
        "colab_type": "text"
      },
      "source": [
        "取得した画像ファイルのパスを使って、data augmentationする。"
      ]
    },
    {
      "cell_type": "code",
      "metadata": {
        "id": "2Ms6sMxRU_qp",
        "colab_type": "code",
        "outputId": "2ad99919-9397-42a3-b73d-2d7e8a2a6f1c",
        "colab": {
          "base_uri": "https://localhost:8080/",
          "height": 136
        }
      },
      "source": [
        "%%time\n",
        "#data augmentationしたtest画像の保存先ディレクトリを作成\n",
        "if os.path.isdir(TEST_TARGET_DIR) == False:\n",
        "  os.mkdir(TEST_TARGET_DIR)\n",
        "\n",
        "#data augmentation\n",
        "path_count = 0\n",
        "img_count = 0\n",
        "\n",
        "for source in test_sources:\n",
        "  #YCrCb空間で読み取り\n",
        "  img_raw = cv2.imread(source)\n",
        "  img_raw = cv2.cvtColor(img_raw, cv2.COLOR_BGR2YCrCb)\n",
        "  img_raw = img_raw[:, :, 1]\n",
        "  \n",
        "  #正規化\n",
        "  img_raw = cv2.normalize(img_raw.astype(float), None, 0.0, 1.0, cv2.NORM_MINMAX)\n",
        "\n",
        "  #クロッピング\n",
        "  height, width = img_raw.shape\n",
        "  img_raw = img_raw[1:(height-np.mod(height, 12)), 0:(width-np.mod(width, 12))]\n",
        "\n",
        "  #パッチ化\n",
        "  patch_size = 32\n",
        "  stride = 14\n",
        "  x_size = math.floor((width - patch_size)/stride) + 1\n",
        "  y_size = math.floor((height - patch_size)/stride) + 1\n",
        "  for x in range(x_size):\n",
        "    for y in range(y_size):\n",
        "      x_coord = x * stride\n",
        "      y_coord = y * stride\n",
        "\n",
        "      patch_name = os.path.join(TEST_TARGET_DIR, str(path_count))\n",
        "      patch = img_raw[y_coord+1:y_coord+patch_size, x_coord+1:x_coord+patch_size]\n",
        "      #ピクセル値をfloat32のまま保存しておきたい。そのため、imageio.imwrite関数を使う。\n",
        "      #ポイントは、拡張子として.exrを指定することと、formatとして'EXR-FI'を指定すること。\n",
        "      #なお、ファイルを呼び出すときは、imageio.imread('hoge.exr')とすれば良い。\n",
        "      #また、patchのピクセル値の型はfloat64であるが、float64は保存できないため、float32にする\n",
        "      imageio.imwrite('{}.exr'.format(patch_name), patch.astype('float32'), format='EXR-FI')\n",
        "      ph, pw = patch.shape\n",
        "      patch_2 = cv2.resize(patch, (ph // 2, pw // 2), cv2.INTER_CUBIC)\n",
        "      imageio.imwrite('{}_2.exr'.format(patch_name), patch_2.astype('float32'), format='EXR-FI')\n",
        "      patch_3 = cv2.resize(patch, (ph // 3, pw // 3), cv2.INTER_CUBIC)\n",
        "      imageio.imwrite('{}_3.exr'.format(patch_name), patch_3.astype('float32'), format='EXR-FI')\n",
        "      patch_4 = cv2.resize(patch, (ph // 4, pw // 4), cv2.INTER_CUBIC)\n",
        "      imageio.imwrite('{}_4.exr'.format(patch_name), patch_4.astype('float32'), format='EXR-FI')\n",
        "\n",
        "      path_count += 1\n",
        "  \n",
        "  img_count += 1\n",
        "  print(img_count)"
      ],
      "execution_count": 17,
      "outputs": [
        {
          "output_type": "stream",
          "text": [
            "1\n",
            "2\n",
            "3\n",
            "4\n",
            "5\n",
            "CPU times: user 10.1 s, sys: 1 s, total: 11.1 s\n",
            "Wall time: 11.1 s\n"
          ],
          "name": "stdout"
        }
      ]
    },
    {
      "cell_type": "markdown",
      "metadata": {
        "id": "4VqHPSCOi2FY",
        "colab_type": "text"
      },
      "source": [
        "float32として保存できていることを確認する。"
      ]
    },
    {
      "cell_type": "code",
      "metadata": {
        "id": "7gw65aGMbQ12",
        "colab_type": "code",
        "colab": {}
      },
      "source": [
        "img = imageio.imread('test/0.exr')"
      ],
      "execution_count": 0,
      "outputs": []
    },
    {
      "cell_type": "code",
      "metadata": {
        "id": "7TwGjKlNholb",
        "colab_type": "code",
        "outputId": "3f426492-5a72-4a24-c0ca-1bd777c0bf12",
        "colab": {
          "base_uri": "https://localhost:8080/",
          "height": 34
        }
      },
      "source": [
        "img[0, 0]"
      ],
      "execution_count": 19,
      "outputs": [
        {
          "output_type": "execute_result",
          "data": {
            "text/plain": [
              "0.140625"
            ]
          },
          "metadata": {
            "tags": []
          },
          "execution_count": 19
        }
      ]
    },
    {
      "cell_type": "code",
      "metadata": {
        "id": "JxFjogXmhpJg",
        "colab_type": "code",
        "outputId": "83523d33-4ac4-4575-c487-5591ece143a6",
        "colab": {
          "base_uri": "https://localhost:8080/",
          "height": 34
        }
      },
      "source": [
        "type(img[0, 0])"
      ],
      "execution_count": 20,
      "outputs": [
        {
          "output_type": "execute_result",
          "data": {
            "text/plain": [
              "numpy.float32"
            ]
          },
          "metadata": {
            "tags": []
          },
          "execution_count": 20
        }
      ]
    },
    {
      "cell_type": "markdown",
      "metadata": {
        "id": "AHaz6HnTXBvr",
        "colab_type": "text"
      },
      "source": [
        "## Learning\n",
        "\n",
        "以下の手順で行う。\n",
        "\n",
        "1. データをロードする\n",
        "2. 学習モデルを作成する\n",
        "3. 学習する"
      ]
    },
    {
      "cell_type": "code",
      "metadata": {
        "id": "pSSLwbX-ZnU3",
        "colab_type": "code",
        "colab": {
          "base_uri": "https://localhost:8080/",
          "height": 34
        },
        "outputId": "23ab4da2-d996-40b8-d08f-a45929bac02e"
      },
      "source": [
        "import re\n",
        "from keras.models import Sequential, Model\n",
        "from keras.layers import Input, Conv2D, Conv2DTranspose\n",
        "from keras.layers.advanced_activations import PReLU\n",
        "import tensorflow as tf\n",
        "from keras import backend as K\n",
        "import threading"
      ],
      "execution_count": 21,
      "outputs": [
        {
          "output_type": "stream",
          "text": [
            "Using TensorFlow backend.\n"
          ],
          "name": "stderr"
        }
      ]
    },
    {
      "cell_type": "code",
      "metadata": {
        "id": "k_5jlaXkdUG_",
        "colab_type": "code",
        "colab": {}
      },
      "source": [
        "TRAIN_SCALES = [4]\n",
        "VALID_SCALES = [4]\n",
        "IMG_SIZE = (32, 32, 1)\n",
        "INPUT_SCALE = 4\n",
        "BATCH_SIZE = 64\n",
        "EPOCHS = 3"
      ],
      "execution_count": 0,
      "outputs": []
    },
    {
      "cell_type": "markdown",
      "metadata": {
        "id": "hdfQG6Q9dQXo",
        "colab_type": "text"
      },
      "source": [
        "**1.データをロードする**"
      ]
    },
    {
      "cell_type": "code",
      "metadata": {
        "id": "s11NeIp8XMV2",
        "colab_type": "code",
        "colab": {}
      },
      "source": [
        "def get_image_list(data_path, scales=[2, 3, 4]):\n",
        "  #scaleしていない画像パスの一覧を取得\n",
        "  #OSSでは、matlabファイル(.mat)を呼び出しているが、ここでは.exrファイルを読み出す\n",
        "  image_paths = glob(os.path.join(data_path, \"*\"))\n",
        "  image_paths = [image_path for image_path in image_paths if re.search(\"^\\d+.exr$\", os.path.basename(image_path))]\n",
        "  \n",
        "  #スケール済み画像も含めた画像パスの一覧\n",
        "  train_list = []\n",
        "  \n",
        "  #各種スケール済み画像を読み込み\n",
        "  for image_path in image_paths:\n",
        "    if os.path.exists(image_path):\n",
        "      for scale in scales:\n",
        "        #末尾の4文字(拡張子)は除く\n",
        "        scale_image_path = image_path[:-4] + \"_\" + str(scale) + \".exr\"\n",
        "        if os.path.exists(scale_image_path):\n",
        "          train_list.append([image_path, scale_image_path])\n",
        "  \n",
        "  return train_list"
      ],
      "execution_count": 0,
      "outputs": []
    },
    {
      "cell_type": "code",
      "metadata": {
        "id": "6SonBkNfdChm",
        "colab_type": "code",
        "colab": {}
      },
      "source": [
        "#trainingデータを読み込み\n",
        "train_list = get_image_list('train', scales=TRAIN_SCALES)"
      ],
      "execution_count": 0,
      "outputs": []
    },
    {
      "cell_type": "code",
      "metadata": {
        "id": "GOdacVaPdkjy",
        "colab_type": "code",
        "colab": {
          "base_uri": "https://localhost:8080/",
          "height": 34
        },
        "outputId": "a0720e67-e5b9-406b-8dd2-57531b46c264"
      },
      "source": [
        "len(train_list)"
      ],
      "execution_count": 25,
      "outputs": [
        {
          "output_type": "execute_result",
          "data": {
            "text/plain": [
              "138100"
            ]
          },
          "metadata": {
            "tags": []
          },
          "execution_count": 25
        }
      ]
    },
    {
      "cell_type": "code",
      "metadata": {
        "id": "pvqnFoVGd0S8",
        "colab_type": "code",
        "colab": {
          "base_uri": "https://localhost:8080/",
          "height": 102
        },
        "outputId": "73dd9ea1-b25d-4d86-bd7f-243fe613bbc9"
      },
      "source": [
        "train_list[:5]"
      ],
      "execution_count": 26,
      "outputs": [
        {
          "output_type": "execute_result",
          "data": {
            "text/plain": [
              "[['train/16737.exr', 'train/16737_4.exr'],\n",
              " ['train/127731.exr', 'train/127731_4.exr'],\n",
              " ['train/90435.exr', 'train/90435_4.exr'],\n",
              " ['train/49792.exr', 'train/49792_4.exr'],\n",
              " ['train/80776.exr', 'train/80776_4.exr']]"
            ]
          },
          "metadata": {
            "tags": []
          },
          "execution_count": 26
        }
      ]
    },
    {
      "cell_type": "code",
      "metadata": {
        "id": "3X5A2vJad7WY",
        "colab_type": "code",
        "colab": {}
      },
      "source": [
        "#validationデータを読み込み\n",
        "test_list = get_image_list('test', scales=VALID_SCALES)"
      ],
      "execution_count": 0,
      "outputs": []
    },
    {
      "cell_type": "code",
      "metadata": {
        "id": "Em6XDpyAeHSL",
        "colab_type": "code",
        "colab": {
          "base_uri": "https://localhost:8080/",
          "height": 34
        },
        "outputId": "8b0cdba7-e303-4c73-9430-45882a87983b"
      },
      "source": [
        "len(test_list)"
      ],
      "execution_count": 28,
      "outputs": [
        {
          "output_type": "execute_result",
          "data": {
            "text/plain": [
              "2544"
            ]
          },
          "metadata": {
            "tags": []
          },
          "execution_count": 28
        }
      ]
    },
    {
      "cell_type": "code",
      "metadata": {
        "id": "CThpYcEoeIbv",
        "colab_type": "code",
        "colab": {
          "base_uri": "https://localhost:8080/",
          "height": 102
        },
        "outputId": "257281a6-fb78-41c9-d393-e8c6c4299c0a"
      },
      "source": [
        "test_list[:5]"
      ],
      "execution_count": 29,
      "outputs": [
        {
          "output_type": "execute_result",
          "data": {
            "text/plain": [
              "[['test/597.exr', 'test/597_4.exr'],\n",
              " ['test/433.exr', 'test/433_4.exr'],\n",
              " ['test/921.exr', 'test/921_4.exr'],\n",
              " ['test/2130.exr', 'test/2130_4.exr'],\n",
              " ['test/2273.exr', 'test/2273_4.exr']]"
            ]
          },
          "metadata": {
            "tags": []
          },
          "execution_count": 29
        }
      ]
    },
    {
      "cell_type": "markdown",
      "metadata": {
        "id": "Y3HEYP_geiDh",
        "colab_type": "text"
      },
      "source": [
        "**2.学習モデルの作成**\n",
        "\n",
        "FSRCNN(56, 16, 4)を実装する。\n",
        "\n",
        "まず、PSNRを定義する。"
      ]
    },
    {
      "cell_type": "code",
      "metadata": {
        "id": "Q0jjd5CohNmO",
        "colab_type": "code",
        "colab": {}
      },
      "source": [
        "def tf_log10(x):\n",
        "  numerator = tf.math.log(x)\n",
        "  denominator = tf.math.log(tf.constant(10, dtype=numerator.dtype))\n",
        "  return numerator / denominator"
      ],
      "execution_count": 0,
      "outputs": []
    },
    {
      "cell_type": "code",
      "metadata": {
        "id": "hYL_Ig2SgoUn",
        "colab_type": "code",
        "colab": {}
      },
      "source": [
        "def PSNR(y_true, y_pred):\n",
        "  #データ作成時にnp.normalize()で正規化済み\n",
        "  max_pixel = 1.0\n",
        "  print(psnr)\n",
        "  return 10.0 * tf_log10((max_pixel ** 2) / (K.mean(K.square(y_pred - y_true))))"
      ],
      "execution_count": 0,
      "outputs": []
    },
    {
      "cell_type": "code",
      "metadata": {
        "id": "R2xZwM-bKwy_",
        "colab_type": "code",
        "colab": {}
      },
      "source": [
        "y_true = np.arange(0, 10, dtype=np.float32)\n",
        "y_pred = np.arange(1, 11, dtype=np.float32)"
      ],
      "execution_count": 0,
      "outputs": []
    },
    {
      "cell_type": "code",
      "metadata": {
        "id": "dFNSOWmGLMkA",
        "colab_type": "code",
        "colab": {
          "base_uri": "https://localhost:8080/",
          "height": 34
        },
        "outputId": "a64b58b0-2a6f-46b5-ec0f-9deacc62d56f"
      },
      "source": [
        "y_true"
      ],
      "execution_count": 55,
      "outputs": [
        {
          "output_type": "execute_result",
          "data": {
            "text/plain": [
              "array([0., 1., 2., 3., 4., 5., 6., 7., 8., 9.], dtype=float32)"
            ]
          },
          "metadata": {
            "tags": []
          },
          "execution_count": 55
        }
      ]
    },
    {
      "cell_type": "code",
      "metadata": {
        "id": "IdjxSSDzLN4N",
        "colab_type": "code",
        "colab": {
          "base_uri": "https://localhost:8080/",
          "height": 34
        },
        "outputId": "7fe9cacd-1699-4d81-bc80-cd546866451b"
      },
      "source": [
        "y_pred"
      ],
      "execution_count": 56,
      "outputs": [
        {
          "output_type": "execute_result",
          "data": {
            "text/plain": [
              "array([ 1.,  2.,  3.,  4.,  5.,  6.,  7.,  8.,  9., 10.], dtype=float32)"
            ]
          },
          "metadata": {
            "tags": []
          },
          "execution_count": 56
        }
      ]
    },
    {
      "cell_type": "code",
      "metadata": {
        "id": "6rKZDQYyLly-",
        "colab_type": "code",
        "colab": {
          "base_uri": "https://localhost:8080/",
          "height": 34
        },
        "outputId": "629fa69e-68c3-45e9-f0df-bf17aec34922"
      },
      "source": [
        "psnr = PSNR(y_true, y_pred)\n",
        "psnr"
      ],
      "execution_count": 57,
      "outputs": [
        {
          "output_type": "execute_result",
          "data": {
            "text/plain": [
              "<tf.Tensor: shape=(), dtype=float32, numpy=0.0>"
            ]
          },
          "metadata": {
            "tags": []
          },
          "execution_count": 57
        }
      ]
    },
    {
      "cell_type": "markdown",
      "metadata": {
        "id": "PGM3mIDVh9iL",
        "colab_type": "text"
      },
      "source": [
        "次に、学習モデルを作成する。"
      ]
    },
    {
      "cell_type": "code",
      "metadata": {
        "id": "p01FiCNreMF8",
        "colab_type": "code",
        "colab": {
          "base_uri": "https://localhost:8080/",
          "height": 714
        },
        "outputId": "655d64ba-b709-4222-d575-722b45bc6084"
      },
      "source": [
        "input_img = Input(shape=(IMG_SIZE[0]//INPUT_SCALE, IMG_SIZE[1]//INPUT_SCALE, 1))\n",
        "\n",
        "#feature extraction layer\n",
        "model = Conv2D(56, (5, 5), padding='same', kernel_initializer='he_normal')(input_img)\n",
        "model = PReLU()(model)\n",
        "\n",
        "#shrinking layer\n",
        "model = Conv2D(16, (1, 1), padding='same', kernel_initializer='he_normal')(model)\n",
        "model = PReLU()(model)\n",
        "\n",
        "#non-linear mapping layer\n",
        "model = Conv2D(12, (3, 3), padding='same', kernel_initializer='he_normal')(model)\n",
        "model = PReLU()(model)\n",
        "model = Conv2D(12, (3, 3), padding='same', kernel_initializer='he_normal')(model)\n",
        "model = PReLU()(model)\n",
        "model = Conv2D(12, (3, 3), padding='same', kernel_initializer='he_normal')(model)\n",
        "model = PReLU()(model)\n",
        "model = Conv2D(12, (3, 3), padding='same', kernel_initializer='he_normal')(model)\n",
        "model = PReLU()(model)\n",
        "\n",
        "#\n",
        "model = Conv2D(56, (1, 1), padding='same', kernel_initializer='he_normal')(model)\n",
        "model = PReLU()(model)\n",
        "\n",
        "model = Conv2DTranspose(1, (9, 9), strides=(4, 4), padding='same')(model)\n",
        "\n",
        "output_img = model\n",
        "\n",
        "model = Model(input_img, output_img)\n",
        "\n",
        "model.compile(optimizer='adam', loss='mse', metrics=[PSNR, \"accuracy\"])\n",
        "\n",
        "model.summary()"
      ],
      "execution_count": 68,
      "outputs": [
        {
          "output_type": "stream",
          "text": [
            "tf.Tensor(0.0, shape=(), dtype=float32)\n",
            "Model: \"model_3\"\n",
            "_________________________________________________________________\n",
            "Layer (type)                 Output Shape              Param #   \n",
            "=================================================================\n",
            "input_3 (InputLayer)         (None, 8, 8, 1)           0         \n",
            "_________________________________________________________________\n",
            "conv2d_15 (Conv2D)           (None, 8, 8, 56)          1456      \n",
            "_________________________________________________________________\n",
            "p_re_lu_15 (PReLU)           (None, 8, 8, 56)          3584      \n",
            "_________________________________________________________________\n",
            "conv2d_16 (Conv2D)           (None, 8, 8, 16)          912       \n",
            "_________________________________________________________________\n",
            "p_re_lu_16 (PReLU)           (None, 8, 8, 16)          1024      \n",
            "_________________________________________________________________\n",
            "conv2d_17 (Conv2D)           (None, 8, 8, 12)          1740      \n",
            "_________________________________________________________________\n",
            "p_re_lu_17 (PReLU)           (None, 8, 8, 12)          768       \n",
            "_________________________________________________________________\n",
            "conv2d_18 (Conv2D)           (None, 8, 8, 12)          1308      \n",
            "_________________________________________________________________\n",
            "p_re_lu_18 (PReLU)           (None, 8, 8, 12)          768       \n",
            "_________________________________________________________________\n",
            "conv2d_19 (Conv2D)           (None, 8, 8, 12)          1308      \n",
            "_________________________________________________________________\n",
            "p_re_lu_19 (PReLU)           (None, 8, 8, 12)          768       \n",
            "_________________________________________________________________\n",
            "conv2d_20 (Conv2D)           (None, 8, 8, 12)          1308      \n",
            "_________________________________________________________________\n",
            "p_re_lu_20 (PReLU)           (None, 8, 8, 12)          768       \n",
            "_________________________________________________________________\n",
            "conv2d_21 (Conv2D)           (None, 8, 8, 56)          728       \n",
            "_________________________________________________________________\n",
            "p_re_lu_21 (PReLU)           (None, 8, 8, 56)          3584      \n",
            "_________________________________________________________________\n",
            "conv2d_transpose_3 (Conv2DTr (None, 32, 32, 1)         4537      \n",
            "=================================================================\n",
            "Total params: 24,561\n",
            "Trainable params: 24,561\n",
            "Non-trainable params: 0\n",
            "_________________________________________________________________\n"
          ],
          "name": "stdout"
        }
      ]
    },
    {
      "cell_type": "markdown",
      "metadata": {
        "id": "_U9pVxqFipM1",
        "colab_type": "text"
      },
      "source": [
        "**3.学習する**\n",
        "\n",
        "学習データのサイズが大きいので、iteratorを使うことにする。ここでは、新たに二つの関数を定義する。\n",
        "\n",
        "* get_image_batch : 引数のリストから二つの部分データ(バッチ)を生成する。\n",
        "* image_gen : genarator。get_image_batchの戻り値二つをiteratorとしてまとめて返す。"
      ]
    },
    {
      "cell_type": "code",
      "metadata": {
        "id": "5SLpWJQhv289",
        "colab_type": "code",
        "colab": {}
      },
      "source": [
        "def get_image_batch(train_list, offset, scale):\n",
        "  '''\n",
        "  train_listのoffset番目の要素から始めて、BATCH_SIZE個分の画像データを取得する。\n",
        "  スケール前の画像とスケール後の画像の二つを分けて取得する。\n",
        "\n",
        "  Parameters\n",
        "  ---------------\n",
        "  train_list : 学習対象のデータ\n",
        "  offset : データを読み始める位置。train_list内の位置を示す。\n",
        "  scale : 画像スケール\n",
        "\n",
        "  Returns\n",
        "  ----------\n",
        "  input_list : スケール後の画像の一覧。要素数はBATCH_SIZE\n",
        "  gt_list : スケール前の画像の一覧。要素数はBATCH_SIZE\n",
        "  '''\n",
        "  print(\"get_image_batch:begin\")\n",
        "  #train_listからBATCH_SIZE個の要素を取得する\n",
        "  #個々の要素は、以下のようにオリジナルの画像パスとscale後の画像パスのペアとなっている。\n",
        "  #['test/597.exr', 'test/597_4.exr']\n",
        "  target_list = train_list[offset:offset+BATCH_SIZE]\n",
        "\n",
        "  #入力画像(スケール済み)データの一覧\n",
        "  input_list = []\n",
        "  #Ground Truth画像(スケールなし)データの一覧\n",
        "  gt_list = []\n",
        "  #各画像データの取得\n",
        "  for pair in target_list:\n",
        "    input_img = imageio.imread(pair[1])\n",
        "    gt_img = imageio.imread(pair[0])\n",
        "    input_list.append(input_img)\n",
        "    gt_list.append(gt_img)\n",
        "  print(\"get_image_batch:inter\")\n",
        "  \n",
        "  #データ整形\n",
        "  input_list = np.array(input_list)\n",
        "  input_list.resize([BATCH_SIZE, IMG_SIZE[0]//scale, IMG_SIZE[1]//scale, 1])\n",
        "\n",
        "  gt_list = np.array(gt_list)\n",
        "  gt_list.resize([BATCH_SIZE, IMG_SIZE[0], IMG_SIZE[1], 1])\n",
        "\n",
        "  print(\"get_image_batch:end\")\n",
        "  return input_list, gt_list"
      ],
      "execution_count": 0,
      "outputs": []
    },
    {
      "cell_type": "code",
      "metadata": {
        "id": "guYntHuFh4EL",
        "colab_type": "code",
        "colab": {}
      },
      "source": [
        "def image_gen(target_list, scale):\n",
        "  '''\n",
        "  2種類の学習データを返すgenerator\n",
        "\n",
        "  Parameters\n",
        "  ---------------\n",
        "  target_list : 画像データの一覧\n",
        "  scale : 画像スケール(元画像をどれだけ小さくするか. 2, 3, 4のいずれかの値を取る。)\n",
        "\n",
        "  Returns\n",
        "  ----------\n",
        "  (batch_x, batch_y) : スケール前画像とスケール後画像のタプル。iterator。\n",
        "  '''\n",
        "  print(\"image_gen\")\n",
        "  length = len(target_list)\n",
        "  #ステップ数(バッチの数)\n",
        "  num_steps = length // BATCH_SIZE\n",
        "  \n",
        "  #generator\n",
        "  while True:\n",
        "    for step in range(num_steps):\n",
        "      offset = step*BATCH_SIZE\n",
        "      batch_x, batch_y = get_image_batch(target_list, offset, scale)\n",
        "      yield (batch_x, batch_y)"
      ],
      "execution_count": 0,
      "outputs": []
    },
    {
      "cell_type": "markdown",
      "metadata": {
        "id": "MKkbW4Jv4K0t",
        "colab_type": "text"
      },
      "source": [
        "動作確認しておこう。"
      ]
    },
    {
      "cell_type": "code",
      "metadata": {
        "id": "uYVVcPwx22lR",
        "colab_type": "code",
        "colab": {}
      },
      "source": [
        "tmp_list = train_list[:1000]\n",
        "tmp_iter = image_gen(tmp_list, scale=4)"
      ],
      "execution_count": 0,
      "outputs": []
    },
    {
      "cell_type": "code",
      "metadata": {
        "id": "qXpiTkok3fL8",
        "colab_type": "code",
        "colab": {}
      },
      "source": [
        "batch_x, batch_y = next(tmp_iter)"
      ],
      "execution_count": 0,
      "outputs": []
    },
    {
      "cell_type": "markdown",
      "metadata": {
        "id": "V9GKKExY0jO-",
        "colab_type": "text"
      },
      "source": [
        "上記の関数により生成されるiteratorを使って、学習する。"
      ]
    },
    {
      "cell_type": "code",
      "metadata": {
        "id": "qnDvMbvj6EVS",
        "colab_type": "code",
        "colab": {
          "base_uri": "https://localhost:8080/",
          "height": 34
        },
        "outputId": "8ce8d456-6765-401d-f3ae-fb6309c7341c"
      },
      "source": [
        "batch_x.shape"
      ],
      "execution_count": 38,
      "outputs": [
        {
          "output_type": "execute_result",
          "data": {
            "text/plain": [
              "(64, 8, 8, 1)"
            ]
          },
          "metadata": {
            "tags": []
          },
          "execution_count": 38
        }
      ]
    },
    {
      "cell_type": "code",
      "metadata": {
        "id": "RcypyhSu6GWV",
        "colab_type": "code",
        "colab": {
          "base_uri": "https://localhost:8080/",
          "height": 34
        },
        "outputId": "4b77f83f-8dcb-42a0-efef-83b7fa070d48"
      },
      "source": [
        "batch_y.shape"
      ],
      "execution_count": 40,
      "outputs": [
        {
          "output_type": "execute_result",
          "data": {
            "text/plain": [
              "(64, 32, 32, 1)"
            ]
          },
          "metadata": {
            "tags": []
          },
          "execution_count": 40
        }
      ]
    },
    {
      "cell_type": "markdown",
      "metadata": {
        "id": "NrHz8xU57lw9",
        "colab_type": "text"
      },
      "source": [
        "各関数は正常に動いている。\n",
        "\n",
        "それでは、学習してみよう。"
      ]
    },
    {
      "cell_type": "code",
      "metadata": {
        "id": "trDQoVfDz1W8",
        "colab_type": "code",
        "colab": {
          "base_uri": "https://localhost:8080/",
          "height": 671
        },
        "outputId": "26238782-0a24-46b1-9359-b6b624d699b6"
      },
      "source": [
        "%%time\n",
        "model.fit_generator(image_gen(train_list, scale=INPUT_SCALE), \n",
        "                    steps_per_epoch=len(train_list) // BATCH_SIZE,\n",
        "                    validation_data=image_gen(test_list, scale=INPUT_SCALE), \n",
        "                    validation_steps = len(train_list) // BATCH_SIZE,\n",
        "                    epochs=EPOCHS)"
      ],
      "execution_count": 67,
      "outputs": [
        {
          "output_type": "stream",
          "text": [
            "Epoch 1/3\n",
            "image_gen\n",
            "get_image_batch:begin\n",
            "image_gen\n",
            "get_image_batch:begin\n",
            "get_image_batch:inter\n",
            "get_image_batch:end\n",
            "get_image_batch:begin\n",
            "get_image_batch:inter\n",
            "get_image_batch:end\n",
            "get_image_batch:begin\n"
          ],
          "name": "stdout"
        },
        {
          "output_type": "error",
          "ename": "ValueError",
          "evalue": "ignored",
          "traceback": [
            "\u001b[0;31m---------------------------------------------------------------------------\u001b[0m",
            "\u001b[0;31mTypeError\u001b[0m                                 Traceback (most recent call last)",
            "\u001b[0;31mTypeError\u001b[0m: only size-1 arrays can be converted to Python scalars",
            "\nThe above exception was the direct cause of the following exception:\n",
            "\u001b[0;31mValueError\u001b[0m                                Traceback (most recent call last)",
            "\u001b[0;32m<ipython-input-67-fe0477ccc601>\u001b[0m in \u001b[0;36m<module>\u001b[0;34m()\u001b[0m\n\u001b[0;32m----> 1\u001b[0;31m \u001b[0mget_ipython\u001b[0m\u001b[0;34m(\u001b[0m\u001b[0;34m)\u001b[0m\u001b[0;34m.\u001b[0m\u001b[0mrun_cell_magic\u001b[0m\u001b[0;34m(\u001b[0m\u001b[0;34m'time'\u001b[0m\u001b[0;34m,\u001b[0m \u001b[0;34m''\u001b[0m\u001b[0;34m,\u001b[0m \u001b[0;34m'model.fit_generator(image_gen(train_list, scale=INPUT_SCALE), \\n                    steps_per_epoch=len(train_list) // BATCH_SIZE,\\n                    validation_data=image_gen(test_list, scale=INPUT_SCALE), \\n                    validation_steps = len(train_list) // BATCH_SIZE,\\n                    epochs=EPOCHS)'\u001b[0m\u001b[0;34m)\u001b[0m\u001b[0;34m\u001b[0m\u001b[0;34m\u001b[0m\u001b[0m\n\u001b[0m",
            "\u001b[0;32m/usr/local/lib/python3.6/dist-packages/IPython/core/interactiveshell.py\u001b[0m in \u001b[0;36mrun_cell_magic\u001b[0;34m(self, magic_name, line, cell)\u001b[0m\n\u001b[1;32m   2115\u001b[0m             \u001b[0mmagic_arg_s\u001b[0m \u001b[0;34m=\u001b[0m \u001b[0mself\u001b[0m\u001b[0;34m.\u001b[0m\u001b[0mvar_expand\u001b[0m\u001b[0;34m(\u001b[0m\u001b[0mline\u001b[0m\u001b[0;34m,\u001b[0m \u001b[0mstack_depth\u001b[0m\u001b[0;34m)\u001b[0m\u001b[0;34m\u001b[0m\u001b[0;34m\u001b[0m\u001b[0m\n\u001b[1;32m   2116\u001b[0m             \u001b[0;32mwith\u001b[0m \u001b[0mself\u001b[0m\u001b[0;34m.\u001b[0m\u001b[0mbuiltin_trap\u001b[0m\u001b[0;34m:\u001b[0m\u001b[0;34m\u001b[0m\u001b[0;34m\u001b[0m\u001b[0m\n\u001b[0;32m-> 2117\u001b[0;31m                 \u001b[0mresult\u001b[0m \u001b[0;34m=\u001b[0m \u001b[0mfn\u001b[0m\u001b[0;34m(\u001b[0m\u001b[0mmagic_arg_s\u001b[0m\u001b[0;34m,\u001b[0m \u001b[0mcell\u001b[0m\u001b[0;34m)\u001b[0m\u001b[0;34m\u001b[0m\u001b[0;34m\u001b[0m\u001b[0m\n\u001b[0m\u001b[1;32m   2118\u001b[0m             \u001b[0;32mreturn\u001b[0m \u001b[0mresult\u001b[0m\u001b[0;34m\u001b[0m\u001b[0;34m\u001b[0m\u001b[0m\n\u001b[1;32m   2119\u001b[0m \u001b[0;34m\u001b[0m\u001b[0m\n",
            "\u001b[0;32m<decorator-gen-60>\u001b[0m in \u001b[0;36mtime\u001b[0;34m(self, line, cell, local_ns)\u001b[0m\n",
            "\u001b[0;32m/usr/local/lib/python3.6/dist-packages/IPython/core/magic.py\u001b[0m in \u001b[0;36m<lambda>\u001b[0;34m(f, *a, **k)\u001b[0m\n\u001b[1;32m    186\u001b[0m     \u001b[0;31m# but it's overkill for just that one bit of state.\u001b[0m\u001b[0;34m\u001b[0m\u001b[0;34m\u001b[0m\u001b[0;34m\u001b[0m\u001b[0m\n\u001b[1;32m    187\u001b[0m     \u001b[0;32mdef\u001b[0m \u001b[0mmagic_deco\u001b[0m\u001b[0;34m(\u001b[0m\u001b[0marg\u001b[0m\u001b[0;34m)\u001b[0m\u001b[0;34m:\u001b[0m\u001b[0;34m\u001b[0m\u001b[0;34m\u001b[0m\u001b[0m\n\u001b[0;32m--> 188\u001b[0;31m         \u001b[0mcall\u001b[0m \u001b[0;34m=\u001b[0m \u001b[0;32mlambda\u001b[0m \u001b[0mf\u001b[0m\u001b[0;34m,\u001b[0m \u001b[0;34m*\u001b[0m\u001b[0ma\u001b[0m\u001b[0;34m,\u001b[0m \u001b[0;34m**\u001b[0m\u001b[0mk\u001b[0m\u001b[0;34m:\u001b[0m \u001b[0mf\u001b[0m\u001b[0;34m(\u001b[0m\u001b[0;34m*\u001b[0m\u001b[0ma\u001b[0m\u001b[0;34m,\u001b[0m \u001b[0;34m**\u001b[0m\u001b[0mk\u001b[0m\u001b[0;34m)\u001b[0m\u001b[0;34m\u001b[0m\u001b[0;34m\u001b[0m\u001b[0m\n\u001b[0m\u001b[1;32m    189\u001b[0m \u001b[0;34m\u001b[0m\u001b[0m\n\u001b[1;32m    190\u001b[0m         \u001b[0;32mif\u001b[0m \u001b[0mcallable\u001b[0m\u001b[0;34m(\u001b[0m\u001b[0marg\u001b[0m\u001b[0;34m)\u001b[0m\u001b[0;34m:\u001b[0m\u001b[0;34m\u001b[0m\u001b[0;34m\u001b[0m\u001b[0m\n",
            "\u001b[0;32m/usr/local/lib/python3.6/dist-packages/IPython/core/magics/execution.py\u001b[0m in \u001b[0;36mtime\u001b[0;34m(self, line, cell, local_ns)\u001b[0m\n\u001b[1;32m   1187\u001b[0m         \u001b[0;32mif\u001b[0m \u001b[0mmode\u001b[0m\u001b[0;34m==\u001b[0m\u001b[0;34m'eval'\u001b[0m\u001b[0;34m:\u001b[0m\u001b[0;34m\u001b[0m\u001b[0;34m\u001b[0m\u001b[0m\n\u001b[1;32m   1188\u001b[0m             \u001b[0mst\u001b[0m \u001b[0;34m=\u001b[0m \u001b[0mclock2\u001b[0m\u001b[0;34m(\u001b[0m\u001b[0;34m)\u001b[0m\u001b[0;34m\u001b[0m\u001b[0;34m\u001b[0m\u001b[0m\n\u001b[0;32m-> 1189\u001b[0;31m             \u001b[0mout\u001b[0m \u001b[0;34m=\u001b[0m \u001b[0meval\u001b[0m\u001b[0;34m(\u001b[0m\u001b[0mcode\u001b[0m\u001b[0;34m,\u001b[0m \u001b[0mglob\u001b[0m\u001b[0;34m,\u001b[0m \u001b[0mlocal_ns\u001b[0m\u001b[0;34m)\u001b[0m\u001b[0;34m\u001b[0m\u001b[0;34m\u001b[0m\u001b[0m\n\u001b[0m\u001b[1;32m   1190\u001b[0m             \u001b[0mend\u001b[0m \u001b[0;34m=\u001b[0m \u001b[0mclock2\u001b[0m\u001b[0;34m(\u001b[0m\u001b[0;34m)\u001b[0m\u001b[0;34m\u001b[0m\u001b[0;34m\u001b[0m\u001b[0m\n\u001b[1;32m   1191\u001b[0m         \u001b[0;32melse\u001b[0m\u001b[0;34m:\u001b[0m\u001b[0;34m\u001b[0m\u001b[0;34m\u001b[0m\u001b[0m\n",
            "\u001b[0;32m<timed eval>\u001b[0m in \u001b[0;36m<module>\u001b[0;34m()\u001b[0m\n",
            "\u001b[0;32m/usr/local/lib/python3.6/dist-packages/keras/legacy/interfaces.py\u001b[0m in \u001b[0;36mwrapper\u001b[0;34m(*args, **kwargs)\u001b[0m\n\u001b[1;32m     89\u001b[0m                 warnings.warn('Update your `' + object_name + '` call to the ' +\n\u001b[1;32m     90\u001b[0m                               'Keras 2 API: ' + signature, stacklevel=2)\n\u001b[0;32m---> 91\u001b[0;31m             \u001b[0;32mreturn\u001b[0m \u001b[0mfunc\u001b[0m\u001b[0;34m(\u001b[0m\u001b[0;34m*\u001b[0m\u001b[0margs\u001b[0m\u001b[0;34m,\u001b[0m \u001b[0;34m**\u001b[0m\u001b[0mkwargs\u001b[0m\u001b[0;34m)\u001b[0m\u001b[0;34m\u001b[0m\u001b[0;34m\u001b[0m\u001b[0m\n\u001b[0m\u001b[1;32m     92\u001b[0m         \u001b[0mwrapper\u001b[0m\u001b[0;34m.\u001b[0m\u001b[0m_original_function\u001b[0m \u001b[0;34m=\u001b[0m \u001b[0mfunc\u001b[0m\u001b[0;34m\u001b[0m\u001b[0;34m\u001b[0m\u001b[0m\n\u001b[1;32m     93\u001b[0m         \u001b[0;32mreturn\u001b[0m \u001b[0mwrapper\u001b[0m\u001b[0;34m\u001b[0m\u001b[0;34m\u001b[0m\u001b[0m\n",
            "\u001b[0;32m/usr/local/lib/python3.6/dist-packages/keras/engine/training.py\u001b[0m in \u001b[0;36mfit_generator\u001b[0;34m(self, generator, steps_per_epoch, epochs, verbose, callbacks, validation_data, validation_steps, validation_freq, class_weight, max_queue_size, workers, use_multiprocessing, shuffle, initial_epoch)\u001b[0m\n\u001b[1;32m   1730\u001b[0m             \u001b[0muse_multiprocessing\u001b[0m\u001b[0;34m=\u001b[0m\u001b[0muse_multiprocessing\u001b[0m\u001b[0;34m,\u001b[0m\u001b[0;34m\u001b[0m\u001b[0;34m\u001b[0m\u001b[0m\n\u001b[1;32m   1731\u001b[0m             \u001b[0mshuffle\u001b[0m\u001b[0;34m=\u001b[0m\u001b[0mshuffle\u001b[0m\u001b[0;34m,\u001b[0m\u001b[0;34m\u001b[0m\u001b[0;34m\u001b[0m\u001b[0m\n\u001b[0;32m-> 1732\u001b[0;31m             initial_epoch=initial_epoch)\n\u001b[0m\u001b[1;32m   1733\u001b[0m \u001b[0;34m\u001b[0m\u001b[0m\n\u001b[1;32m   1734\u001b[0m     \u001b[0;34m@\u001b[0m\u001b[0minterfaces\u001b[0m\u001b[0;34m.\u001b[0m\u001b[0mlegacy_generator_methods_support\u001b[0m\u001b[0;34m\u001b[0m\u001b[0;34m\u001b[0m\u001b[0m\n",
            "\u001b[0;32m/usr/local/lib/python3.6/dist-packages/keras/engine/training_generator.py\u001b[0m in \u001b[0;36mfit_generator\u001b[0;34m(model, generator, steps_per_epoch, epochs, verbose, callbacks, validation_data, validation_steps, validation_freq, class_weight, max_queue_size, workers, use_multiprocessing, shuffle, initial_epoch)\u001b[0m\n\u001b[1;32m    218\u001b[0m                                             \u001b[0msample_weight\u001b[0m\u001b[0;34m=\u001b[0m\u001b[0msample_weight\u001b[0m\u001b[0;34m,\u001b[0m\u001b[0;34m\u001b[0m\u001b[0;34m\u001b[0m\u001b[0m\n\u001b[1;32m    219\u001b[0m                                             \u001b[0mclass_weight\u001b[0m\u001b[0;34m=\u001b[0m\u001b[0mclass_weight\u001b[0m\u001b[0;34m,\u001b[0m\u001b[0;34m\u001b[0m\u001b[0;34m\u001b[0m\u001b[0m\n\u001b[0;32m--> 220\u001b[0;31m                                             reset_metrics=False)\n\u001b[0m\u001b[1;32m    221\u001b[0m \u001b[0;34m\u001b[0m\u001b[0m\n\u001b[1;32m    222\u001b[0m                 \u001b[0mouts\u001b[0m \u001b[0;34m=\u001b[0m \u001b[0mto_list\u001b[0m\u001b[0;34m(\u001b[0m\u001b[0mouts\u001b[0m\u001b[0;34m)\u001b[0m\u001b[0;34m\u001b[0m\u001b[0;34m\u001b[0m\u001b[0m\n",
            "\u001b[0;32m/usr/local/lib/python3.6/dist-packages/keras/engine/training.py\u001b[0m in \u001b[0;36mtrain_on_batch\u001b[0;34m(self, x, y, sample_weight, class_weight, reset_metrics)\u001b[0m\n\u001b[1;32m   1512\u001b[0m             \u001b[0mins\u001b[0m \u001b[0;34m=\u001b[0m \u001b[0mx\u001b[0m \u001b[0;34m+\u001b[0m \u001b[0my\u001b[0m \u001b[0;34m+\u001b[0m \u001b[0msample_weights\u001b[0m\u001b[0;34m\u001b[0m\u001b[0;34m\u001b[0m\u001b[0m\n\u001b[1;32m   1513\u001b[0m         \u001b[0mself\u001b[0m\u001b[0;34m.\u001b[0m\u001b[0m_make_train_function\u001b[0m\u001b[0;34m(\u001b[0m\u001b[0;34m)\u001b[0m\u001b[0;34m\u001b[0m\u001b[0;34m\u001b[0m\u001b[0m\n\u001b[0;32m-> 1514\u001b[0;31m         \u001b[0moutputs\u001b[0m \u001b[0;34m=\u001b[0m \u001b[0mself\u001b[0m\u001b[0;34m.\u001b[0m\u001b[0mtrain_function\u001b[0m\u001b[0;34m(\u001b[0m\u001b[0mins\u001b[0m\u001b[0;34m)\u001b[0m\u001b[0;34m\u001b[0m\u001b[0;34m\u001b[0m\u001b[0m\n\u001b[0m\u001b[1;32m   1515\u001b[0m \u001b[0;34m\u001b[0m\u001b[0m\n\u001b[1;32m   1516\u001b[0m         \u001b[0;32mif\u001b[0m \u001b[0mreset_metrics\u001b[0m\u001b[0;34m:\u001b[0m\u001b[0;34m\u001b[0m\u001b[0;34m\u001b[0m\u001b[0m\n",
            "\u001b[0;32m/usr/local/lib/python3.6/dist-packages/tensorflow/python/keras/backend.py\u001b[0m in \u001b[0;36m__call__\u001b[0;34m(self, inputs)\u001b[0m\n\u001b[1;32m   3784\u001b[0m               'You must feed a value for placeholder %s' % (tensor,))\n\u001b[1;32m   3785\u001b[0m       \u001b[0;32mif\u001b[0m \u001b[0;32mnot\u001b[0m \u001b[0misinstance\u001b[0m\u001b[0;34m(\u001b[0m\u001b[0mvalue\u001b[0m\u001b[0;34m,\u001b[0m \u001b[0mops\u001b[0m\u001b[0;34m.\u001b[0m\u001b[0mTensor\u001b[0m\u001b[0;34m)\u001b[0m\u001b[0;34m:\u001b[0m\u001b[0;34m\u001b[0m\u001b[0;34m\u001b[0m\u001b[0m\n\u001b[0;32m-> 3786\u001b[0;31m         \u001b[0mvalue\u001b[0m \u001b[0;34m=\u001b[0m \u001b[0mops\u001b[0m\u001b[0;34m.\u001b[0m\u001b[0mconvert_to_tensor_v2\u001b[0m\u001b[0;34m(\u001b[0m\u001b[0mvalue\u001b[0m\u001b[0;34m,\u001b[0m \u001b[0mdtype\u001b[0m\u001b[0;34m=\u001b[0m\u001b[0mtensor\u001b[0m\u001b[0;34m.\u001b[0m\u001b[0mdtype\u001b[0m\u001b[0;34m)\u001b[0m\u001b[0;34m\u001b[0m\u001b[0;34m\u001b[0m\u001b[0m\n\u001b[0m\u001b[1;32m   3787\u001b[0m       \u001b[0;32mif\u001b[0m \u001b[0mvalue\u001b[0m\u001b[0;34m.\u001b[0m\u001b[0mdtype\u001b[0m \u001b[0;34m!=\u001b[0m \u001b[0mtensor\u001b[0m\u001b[0;34m.\u001b[0m\u001b[0mdtype\u001b[0m\u001b[0;34m:\u001b[0m\u001b[0;34m\u001b[0m\u001b[0;34m\u001b[0m\u001b[0m\n\u001b[1;32m   3788\u001b[0m         \u001b[0;31m# Temporary workaround due to `convert_to_tensor` not casting floats.\u001b[0m\u001b[0;34m\u001b[0m\u001b[0;34m\u001b[0m\u001b[0;34m\u001b[0m\u001b[0m\n",
            "\u001b[0;32m/usr/local/lib/python3.6/dist-packages/tensorflow/python/framework/ops.py\u001b[0m in \u001b[0;36mconvert_to_tensor_v2\u001b[0;34m(value, dtype, dtype_hint, name)\u001b[0m\n\u001b[1;32m   1281\u001b[0m       \u001b[0mname\u001b[0m\u001b[0;34m=\u001b[0m\u001b[0mname\u001b[0m\u001b[0;34m,\u001b[0m\u001b[0;34m\u001b[0m\u001b[0;34m\u001b[0m\u001b[0m\n\u001b[1;32m   1282\u001b[0m       \u001b[0mpreferred_dtype\u001b[0m\u001b[0;34m=\u001b[0m\u001b[0mdtype_hint\u001b[0m\u001b[0;34m,\u001b[0m\u001b[0;34m\u001b[0m\u001b[0;34m\u001b[0m\u001b[0m\n\u001b[0;32m-> 1283\u001b[0;31m       as_ref=False)\n\u001b[0m\u001b[1;32m   1284\u001b[0m \u001b[0;34m\u001b[0m\u001b[0m\n\u001b[1;32m   1285\u001b[0m \u001b[0;34m\u001b[0m\u001b[0m\n",
            "\u001b[0;32m/usr/local/lib/python3.6/dist-packages/tensorflow/python/framework/ops.py\u001b[0m in \u001b[0;36mconvert_to_tensor\u001b[0;34m(value, dtype, name, as_ref, preferred_dtype, dtype_hint, ctx, accepted_result_types)\u001b[0m\n\u001b[1;32m   1339\u001b[0m \u001b[0;34m\u001b[0m\u001b[0m\n\u001b[1;32m   1340\u001b[0m     \u001b[0;32mif\u001b[0m \u001b[0mret\u001b[0m \u001b[0;32mis\u001b[0m \u001b[0;32mNone\u001b[0m\u001b[0;34m:\u001b[0m\u001b[0;34m\u001b[0m\u001b[0;34m\u001b[0m\u001b[0m\n\u001b[0;32m-> 1341\u001b[0;31m       \u001b[0mret\u001b[0m \u001b[0;34m=\u001b[0m \u001b[0mconversion_func\u001b[0m\u001b[0;34m(\u001b[0m\u001b[0mvalue\u001b[0m\u001b[0;34m,\u001b[0m \u001b[0mdtype\u001b[0m\u001b[0;34m=\u001b[0m\u001b[0mdtype\u001b[0m\u001b[0;34m,\u001b[0m \u001b[0mname\u001b[0m\u001b[0;34m=\u001b[0m\u001b[0mname\u001b[0m\u001b[0;34m,\u001b[0m \u001b[0mas_ref\u001b[0m\u001b[0;34m=\u001b[0m\u001b[0mas_ref\u001b[0m\u001b[0;34m)\u001b[0m\u001b[0;34m\u001b[0m\u001b[0;34m\u001b[0m\u001b[0m\n\u001b[0m\u001b[1;32m   1342\u001b[0m \u001b[0;34m\u001b[0m\u001b[0m\n\u001b[1;32m   1343\u001b[0m     \u001b[0;32mif\u001b[0m \u001b[0mret\u001b[0m \u001b[0;32mis\u001b[0m \u001b[0mNotImplemented\u001b[0m\u001b[0;34m:\u001b[0m\u001b[0;34m\u001b[0m\u001b[0;34m\u001b[0m\u001b[0m\n",
            "\u001b[0;32m/usr/local/lib/python3.6/dist-packages/tensorflow/python/framework/tensor_conversion_registry.py\u001b[0m in \u001b[0;36m_default_conversion_function\u001b[0;34m(***failed resolving arguments***)\u001b[0m\n\u001b[1;32m     50\u001b[0m \u001b[0;32mdef\u001b[0m \u001b[0m_default_conversion_function\u001b[0m\u001b[0;34m(\u001b[0m\u001b[0mvalue\u001b[0m\u001b[0;34m,\u001b[0m \u001b[0mdtype\u001b[0m\u001b[0;34m,\u001b[0m \u001b[0mname\u001b[0m\u001b[0;34m,\u001b[0m \u001b[0mas_ref\u001b[0m\u001b[0;34m)\u001b[0m\u001b[0;34m:\u001b[0m\u001b[0;34m\u001b[0m\u001b[0;34m\u001b[0m\u001b[0m\n\u001b[1;32m     51\u001b[0m   \u001b[0;32mdel\u001b[0m \u001b[0mas_ref\u001b[0m  \u001b[0;31m# Unused.\u001b[0m\u001b[0;34m\u001b[0m\u001b[0;34m\u001b[0m\u001b[0m\n\u001b[0;32m---> 52\u001b[0;31m   \u001b[0;32mreturn\u001b[0m \u001b[0mconstant_op\u001b[0m\u001b[0;34m.\u001b[0m\u001b[0mconstant\u001b[0m\u001b[0;34m(\u001b[0m\u001b[0mvalue\u001b[0m\u001b[0;34m,\u001b[0m \u001b[0mdtype\u001b[0m\u001b[0;34m,\u001b[0m \u001b[0mname\u001b[0m\u001b[0;34m=\u001b[0m\u001b[0mname\u001b[0m\u001b[0;34m)\u001b[0m\u001b[0;34m\u001b[0m\u001b[0;34m\u001b[0m\u001b[0m\n\u001b[0m\u001b[1;32m     53\u001b[0m \u001b[0;34m\u001b[0m\u001b[0m\n\u001b[1;32m     54\u001b[0m \u001b[0;34m\u001b[0m\u001b[0m\n",
            "\u001b[0;32m/usr/local/lib/python3.6/dist-packages/tensorflow/python/framework/constant_op.py\u001b[0m in \u001b[0;36mconstant\u001b[0;34m(value, dtype, shape, name)\u001b[0m\n\u001b[1;32m    260\u001b[0m   \"\"\"\n\u001b[1;32m    261\u001b[0m   return _constant_impl(value, dtype, shape, name, verify_shape=False,\n\u001b[0;32m--> 262\u001b[0;31m                         allow_broadcast=True)\n\u001b[0m\u001b[1;32m    263\u001b[0m \u001b[0;34m\u001b[0m\u001b[0m\n\u001b[1;32m    264\u001b[0m \u001b[0;34m\u001b[0m\u001b[0m\n",
            "\u001b[0;32m/usr/local/lib/python3.6/dist-packages/tensorflow/python/framework/constant_op.py\u001b[0m in \u001b[0;36m_constant_impl\u001b[0;34m(value, dtype, shape, name, verify_shape, allow_broadcast)\u001b[0m\n\u001b[1;32m    268\u001b[0m   \u001b[0mctx\u001b[0m \u001b[0;34m=\u001b[0m \u001b[0mcontext\u001b[0m\u001b[0;34m.\u001b[0m\u001b[0mcontext\u001b[0m\u001b[0;34m(\u001b[0m\u001b[0;34m)\u001b[0m\u001b[0;34m\u001b[0m\u001b[0;34m\u001b[0m\u001b[0m\n\u001b[1;32m    269\u001b[0m   \u001b[0;32mif\u001b[0m \u001b[0mctx\u001b[0m\u001b[0;34m.\u001b[0m\u001b[0mexecuting_eagerly\u001b[0m\u001b[0;34m(\u001b[0m\u001b[0;34m)\u001b[0m\u001b[0;34m:\u001b[0m\u001b[0;34m\u001b[0m\u001b[0;34m\u001b[0m\u001b[0m\n\u001b[0;32m--> 270\u001b[0;31m     \u001b[0mt\u001b[0m \u001b[0;34m=\u001b[0m \u001b[0mconvert_to_eager_tensor\u001b[0m\u001b[0;34m(\u001b[0m\u001b[0mvalue\u001b[0m\u001b[0;34m,\u001b[0m \u001b[0mctx\u001b[0m\u001b[0;34m,\u001b[0m \u001b[0mdtype\u001b[0m\u001b[0;34m)\u001b[0m\u001b[0;34m\u001b[0m\u001b[0;34m\u001b[0m\u001b[0m\n\u001b[0m\u001b[1;32m    271\u001b[0m     \u001b[0;32mif\u001b[0m \u001b[0mshape\u001b[0m \u001b[0;32mis\u001b[0m \u001b[0;32mNone\u001b[0m\u001b[0;34m:\u001b[0m\u001b[0;34m\u001b[0m\u001b[0;34m\u001b[0m\u001b[0m\n\u001b[1;32m    272\u001b[0m       \u001b[0;32mreturn\u001b[0m \u001b[0mt\u001b[0m\u001b[0;34m\u001b[0m\u001b[0;34m\u001b[0m\u001b[0m\n",
            "\u001b[0;32m/usr/local/lib/python3.6/dist-packages/tensorflow/python/framework/constant_op.py\u001b[0m in \u001b[0;36mconvert_to_eager_tensor\u001b[0;34m(value, ctx, dtype)\u001b[0m\n\u001b[1;32m     94\u001b[0m       \u001b[0mdtype\u001b[0m \u001b[0;34m=\u001b[0m \u001b[0mdtypes\u001b[0m\u001b[0;34m.\u001b[0m\u001b[0mas_dtype\u001b[0m\u001b[0;34m(\u001b[0m\u001b[0mdtype\u001b[0m\u001b[0;34m)\u001b[0m\u001b[0;34m.\u001b[0m\u001b[0mas_datatype_enum\u001b[0m\u001b[0;34m\u001b[0m\u001b[0;34m\u001b[0m\u001b[0m\n\u001b[1;32m     95\u001b[0m   \u001b[0mctx\u001b[0m\u001b[0;34m.\u001b[0m\u001b[0mensure_initialized\u001b[0m\u001b[0;34m(\u001b[0m\u001b[0;34m)\u001b[0m\u001b[0;34m\u001b[0m\u001b[0;34m\u001b[0m\u001b[0m\n\u001b[0;32m---> 96\u001b[0;31m   \u001b[0;32mreturn\u001b[0m \u001b[0mops\u001b[0m\u001b[0;34m.\u001b[0m\u001b[0mEagerTensor\u001b[0m\u001b[0;34m(\u001b[0m\u001b[0mvalue\u001b[0m\u001b[0;34m,\u001b[0m \u001b[0mctx\u001b[0m\u001b[0;34m.\u001b[0m\u001b[0mdevice_name\u001b[0m\u001b[0;34m,\u001b[0m \u001b[0mdtype\u001b[0m\u001b[0;34m)\u001b[0m\u001b[0;34m\u001b[0m\u001b[0;34m\u001b[0m\u001b[0m\n\u001b[0m\u001b[1;32m     97\u001b[0m \u001b[0;34m\u001b[0m\u001b[0m\n\u001b[1;32m     98\u001b[0m \u001b[0;34m\u001b[0m\u001b[0m\n",
            "\u001b[0;31mValueError\u001b[0m: setting an array element with a sequence."
          ]
        }
      ]
    },
    {
      "cell_type": "markdown",
      "metadata": {
        "id": "8c_DDIv58fkE",
        "colab_type": "text"
      },
      "source": [
        "以下のような警告が出て学習が止まっている。\n",
        "\n",
        "```\n",
        "/usr/local/lib/python3.6/dist-packages/keras/utils/data_utils.py:718: UserWarning: An input could not be retrieved. It could be because a worker has died.We do not have any information on the lost sample.\n",
        "  UserWarning)\n",
        "```\n",
        "\n",
        "[同じ症状の人がいた](https://qiita.com/mosamosa/items/9907a56cab7ae96d76c7)。\n",
        "\n",
        "ただ、僕の場合はgoogle colabのcontent配下に既にデータを置いている。[いろいろ調べてみると](https://stackoverflow.com/questions/60838253/userwarning-the-input-94-could-not-be-retrieved-it-could-be-because-a-worker-h)、google colab周りが怪しそう・・・\n",
        "\n",
        "batch数を半分してみたがだめ。\n",
        "\n",
        "workerの数は１(default)としているしマルチスレッディングが原因ではなさそうだが、一応、OSS通り、generatorをthread-safeにしてみよう。"
      ]
    },
    {
      "cell_type": "code",
      "metadata": {
        "id": "wf1_yKnX_aX1",
        "colab_type": "code",
        "colab": {}
      },
      "source": [
        "class threadsafe_iter:\n",
        "  '''threadsafeにデータを取得するためのiterator'''\n",
        "  #iteratorを実装するには、__iter__と、__next__を実装すれば良い。\n",
        "  #なお、threadsafeとするため、mutexを保持するようにしている。\n",
        "  def __init__(self, it):\n",
        "    self.it = it\n",
        "    self.lock = threading.Lock()\n",
        "\n",
        "  def __iter__(self):\n",
        "    return self\n",
        "  \n",
        "  def __next__(self):\n",
        "    #mutexを取得する。\n",
        "    with self.lock:\n",
        "      return self.it.__next__()"
      ],
      "execution_count": 0,
      "outputs": []
    },
    {
      "cell_type": "code",
      "metadata": {
        "id": "B2pkYlp9_4o4",
        "colab_type": "code",
        "colab": {}
      },
      "source": [
        "def threadsafe_generator(f):\n",
        "  '''引数のgenerator fをthread-safeとするdecorator'''\n",
        "  def g(*a, **kw):\n",
        "    return threadsafe_iter(f(*a, **kw))\n",
        "  \n",
        "  return g"
      ],
      "execution_count": 0,
      "outputs": []
    },
    {
      "cell_type": "code",
      "metadata": {
        "id": "gy-UDG9fAvOA",
        "colab_type": "code",
        "colab": {}
      },
      "source": [
        "@threadsafe_generator\n",
        "def image_gen(target_list, scale):\n",
        "  '''\n",
        "  2種類の学習データを返すgenerator\n",
        "\n",
        "  Parameters\n",
        "  ---------------\n",
        "  target_list : 画像データの一覧\n",
        "  scale : 画像スケール(元画像をどれだけ小さくするか. 2, 3, 4のいずれかの値を取る。)\n",
        "\n",
        "  Returns\n",
        "  ----------\n",
        "  (batch_x, batch_y) : スケール前画像とスケール後画像のタプル。iterator。\n",
        "  '''\n",
        "\n",
        "  length = len(target_list)\n",
        "  #ステップ数(バッチの数)\n",
        "  num_steps = length // BATCH_SIZE\n",
        "  \n",
        "  #generator\n",
        "  while True:\n",
        "    for step in range(num_steps):\n",
        "      offset = step*BATCH_SIZE\n",
        "      batch_x, batch_y = get_image_batch(target_list, offset, scale)\n",
        "      yield (batch_x, batch_y)"
      ],
      "execution_count": 0,
      "outputs": []
    },
    {
      "cell_type": "code",
      "metadata": {
        "id": "HC1H1-j2AysN",
        "colab_type": "code",
        "colab": {
          "base_uri": "https://localhost:8080/",
          "height": 399
        },
        "outputId": "14ee5b26-4b90-43e8-e36f-b33ca1525b1c"
      },
      "source": [
        "%%time\n",
        "model.fit_generator(image_gen(train_list, scale=INPUT_SCALE), \n",
        "                    steps_per_epoch=len(train_list) // BATCH_SIZE,\n",
        "                    validation_data=image_gen(test_list, scale=INPUT_SCALE), \n",
        "                    validation_steps = len(train_list) // BATCH_SIZE,\n",
        "                    epochs=EPOCHS)"
      ],
      "execution_count": 1,
      "outputs": [
        {
          "output_type": "error",
          "ename": "NameError",
          "evalue": "ignored",
          "traceback": [
            "\u001b[0;31m---------------------------------------------------------------------------\u001b[0m",
            "\u001b[0;31mNameError\u001b[0m                                 Traceback (most recent call last)",
            "\u001b[0;32m<ipython-input-1-fe0477ccc601>\u001b[0m in \u001b[0;36m<module>\u001b[0;34m()\u001b[0m\n\u001b[0;32m----> 1\u001b[0;31m \u001b[0mget_ipython\u001b[0m\u001b[0;34m(\u001b[0m\u001b[0;34m)\u001b[0m\u001b[0;34m.\u001b[0m\u001b[0mrun_cell_magic\u001b[0m\u001b[0;34m(\u001b[0m\u001b[0;34m'time'\u001b[0m\u001b[0;34m,\u001b[0m \u001b[0;34m''\u001b[0m\u001b[0;34m,\u001b[0m \u001b[0;34m'model.fit_generator(image_gen(train_list, scale=INPUT_SCALE), \\n                    steps_per_epoch=len(train_list) // BATCH_SIZE,\\n                    validation_data=image_gen(test_list, scale=INPUT_SCALE), \\n                    validation_steps = len(train_list) // BATCH_SIZE,\\n                    epochs=EPOCHS)'\u001b[0m\u001b[0;34m)\u001b[0m\u001b[0;34m\u001b[0m\u001b[0;34m\u001b[0m\u001b[0m\n\u001b[0m",
            "\u001b[0;32m/usr/local/lib/python3.6/dist-packages/IPython/core/interactiveshell.py\u001b[0m in \u001b[0;36mrun_cell_magic\u001b[0;34m(self, magic_name, line, cell)\u001b[0m\n\u001b[1;32m   2115\u001b[0m             \u001b[0mmagic_arg_s\u001b[0m \u001b[0;34m=\u001b[0m \u001b[0mself\u001b[0m\u001b[0;34m.\u001b[0m\u001b[0mvar_expand\u001b[0m\u001b[0;34m(\u001b[0m\u001b[0mline\u001b[0m\u001b[0;34m,\u001b[0m \u001b[0mstack_depth\u001b[0m\u001b[0;34m)\u001b[0m\u001b[0;34m\u001b[0m\u001b[0;34m\u001b[0m\u001b[0m\n\u001b[1;32m   2116\u001b[0m             \u001b[0;32mwith\u001b[0m \u001b[0mself\u001b[0m\u001b[0;34m.\u001b[0m\u001b[0mbuiltin_trap\u001b[0m\u001b[0;34m:\u001b[0m\u001b[0;34m\u001b[0m\u001b[0;34m\u001b[0m\u001b[0m\n\u001b[0;32m-> 2117\u001b[0;31m                 \u001b[0mresult\u001b[0m \u001b[0;34m=\u001b[0m \u001b[0mfn\u001b[0m\u001b[0;34m(\u001b[0m\u001b[0mmagic_arg_s\u001b[0m\u001b[0;34m,\u001b[0m \u001b[0mcell\u001b[0m\u001b[0;34m)\u001b[0m\u001b[0;34m\u001b[0m\u001b[0;34m\u001b[0m\u001b[0m\n\u001b[0m\u001b[1;32m   2118\u001b[0m             \u001b[0;32mreturn\u001b[0m \u001b[0mresult\u001b[0m\u001b[0;34m\u001b[0m\u001b[0;34m\u001b[0m\u001b[0m\n\u001b[1;32m   2119\u001b[0m \u001b[0;34m\u001b[0m\u001b[0m\n",
            "\u001b[0;32m<decorator-gen-60>\u001b[0m in \u001b[0;36mtime\u001b[0;34m(self, line, cell, local_ns)\u001b[0m\n",
            "\u001b[0;32m/usr/local/lib/python3.6/dist-packages/IPython/core/magic.py\u001b[0m in \u001b[0;36m<lambda>\u001b[0;34m(f, *a, **k)\u001b[0m\n\u001b[1;32m    186\u001b[0m     \u001b[0;31m# but it's overkill for just that one bit of state.\u001b[0m\u001b[0;34m\u001b[0m\u001b[0;34m\u001b[0m\u001b[0;34m\u001b[0m\u001b[0m\n\u001b[1;32m    187\u001b[0m     \u001b[0;32mdef\u001b[0m \u001b[0mmagic_deco\u001b[0m\u001b[0;34m(\u001b[0m\u001b[0marg\u001b[0m\u001b[0;34m)\u001b[0m\u001b[0;34m:\u001b[0m\u001b[0;34m\u001b[0m\u001b[0;34m\u001b[0m\u001b[0m\n\u001b[0;32m--> 188\u001b[0;31m         \u001b[0mcall\u001b[0m \u001b[0;34m=\u001b[0m \u001b[0;32mlambda\u001b[0m \u001b[0mf\u001b[0m\u001b[0;34m,\u001b[0m \u001b[0;34m*\u001b[0m\u001b[0ma\u001b[0m\u001b[0;34m,\u001b[0m \u001b[0;34m**\u001b[0m\u001b[0mk\u001b[0m\u001b[0;34m:\u001b[0m \u001b[0mf\u001b[0m\u001b[0;34m(\u001b[0m\u001b[0;34m*\u001b[0m\u001b[0ma\u001b[0m\u001b[0;34m,\u001b[0m \u001b[0;34m**\u001b[0m\u001b[0mk\u001b[0m\u001b[0;34m)\u001b[0m\u001b[0;34m\u001b[0m\u001b[0;34m\u001b[0m\u001b[0m\n\u001b[0m\u001b[1;32m    189\u001b[0m \u001b[0;34m\u001b[0m\u001b[0m\n\u001b[1;32m    190\u001b[0m         \u001b[0;32mif\u001b[0m \u001b[0mcallable\u001b[0m\u001b[0;34m(\u001b[0m\u001b[0marg\u001b[0m\u001b[0;34m)\u001b[0m\u001b[0;34m:\u001b[0m\u001b[0;34m\u001b[0m\u001b[0;34m\u001b[0m\u001b[0m\n",
            "\u001b[0;32m/usr/local/lib/python3.6/dist-packages/IPython/core/magics/execution.py\u001b[0m in \u001b[0;36mtime\u001b[0;34m(self, line, cell, local_ns)\u001b[0m\n\u001b[1;32m   1187\u001b[0m         \u001b[0;32mif\u001b[0m \u001b[0mmode\u001b[0m\u001b[0;34m==\u001b[0m\u001b[0;34m'eval'\u001b[0m\u001b[0;34m:\u001b[0m\u001b[0;34m\u001b[0m\u001b[0;34m\u001b[0m\u001b[0m\n\u001b[1;32m   1188\u001b[0m             \u001b[0mst\u001b[0m \u001b[0;34m=\u001b[0m \u001b[0mclock2\u001b[0m\u001b[0;34m(\u001b[0m\u001b[0;34m)\u001b[0m\u001b[0;34m\u001b[0m\u001b[0;34m\u001b[0m\u001b[0m\n\u001b[0;32m-> 1189\u001b[0;31m             \u001b[0mout\u001b[0m \u001b[0;34m=\u001b[0m \u001b[0meval\u001b[0m\u001b[0;34m(\u001b[0m\u001b[0mcode\u001b[0m\u001b[0;34m,\u001b[0m \u001b[0mglob\u001b[0m\u001b[0;34m,\u001b[0m \u001b[0mlocal_ns\u001b[0m\u001b[0;34m)\u001b[0m\u001b[0;34m\u001b[0m\u001b[0;34m\u001b[0m\u001b[0m\n\u001b[0m\u001b[1;32m   1190\u001b[0m             \u001b[0mend\u001b[0m \u001b[0;34m=\u001b[0m \u001b[0mclock2\u001b[0m\u001b[0;34m(\u001b[0m\u001b[0;34m)\u001b[0m\u001b[0;34m\u001b[0m\u001b[0;34m\u001b[0m\u001b[0m\n\u001b[1;32m   1191\u001b[0m         \u001b[0;32melse\u001b[0m\u001b[0;34m:\u001b[0m\u001b[0;34m\u001b[0m\u001b[0;34m\u001b[0m\u001b[0m\n",
            "\u001b[0;32m<timed eval>\u001b[0m in \u001b[0;36m<module>\u001b[0;34m()\u001b[0m\n",
            "\u001b[0;31mNameError\u001b[0m: name 'model' is not defined"
          ]
        }
      ]
    },
    {
      "cell_type": "markdown",
      "metadata": {
        "id": "8kVtcgCDDUNa",
        "colab_type": "text"
      },
      "source": [
        "ですよねー。\n",
        "\n",
        "[ここ](https://stackoverflow.com/questions/58446290/userwarning-an-input-could-not-be-retrieved-it-could-be-because-a-worker-has/58546878#58546878)を読むに、学習中にデータを読み込もうとしてしまっているみたい。\n",
        "\n",
        "エラーを出力している箇所は以下の通り。queueからデータを取得するところでタイムアウトが起きている。\n",
        "\n",
        "```\n",
        "try:\n",
        "  while self.is_running():\n",
        "    try:\n",
        "      future = self.queue.get(block=True)\n",
        "      inputs = future.get(timeout=30)\n",
        "      self.queue.task_done()\n",
        "    except mp.TimeoutError:\n",
        "      warnings.warn(\n",
        "        'An input could not be retrieved.'\n",
        "        ' It could be because a worker has died.'\n",
        "        'We do not have any information on the lost sample.',\n",
        "        UserWarning)\n",
        "      continue\n",
        "```\n",
        "\n",
        "[ここ](https://stackoverflow.com/questions/58446290/userwarning-an-input-could-not-be-retrieved-it-could-be-because-a-worker-has/62078064#62078064)を読むには、GPUによる学習に時間を食っている間にCPUが次のデータを用意しようとするのが原因とされている。解決策を二つ挙げている。一つは、1batchごとにかかる学習時間を短くするためにbatchサイズを小さくすること、もう一つはCPUの設定を見直すこと。"
      ]
    },
    {
      "cell_type": "code",
      "metadata": {
        "id": "ohSa2wZB1IQ0",
        "colab_type": "code",
        "colab": {}
      },
      "source": [
        "model.save('fsrcnn_model.h5')"
      ],
      "execution_count": 0,
      "outputs": []
    }
  ]
}